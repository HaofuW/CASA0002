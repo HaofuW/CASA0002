{
 "cells": [
  {
   "cell_type": "markdown",
   "id": "92dc2662",
   "metadata": {},
   "source": [
    "# I. Topological network"
   ]
  },
  {
   "cell_type": "markdown",
   "id": "6a4839ee",
   "metadata": {},
   "source": [
    "## I.1. Centrality measures:"
   ]
  },
  {
   "cell_type": "code",
   "execution_count": 1,
   "id": "eb844ff1",
   "metadata": {},
   "outputs": [],
   "source": [
    "import pandas as pd\n",
    "import networkx as nx\n",
    "import matplotlib.pyplot as plt"
   ]
  },
  {
   "cell_type": "code",
   "execution_count": 2,
   "id": "d27e59cd",
   "metadata": {},
   "outputs": [],
   "source": [
    "G = nx.read_graphml(\"london_graph.xml\") "
   ]
  },
  {
   "cell_type": "code",
   "execution_count": 3,
   "id": "d7fab8c4",
   "metadata": {},
   "outputs": [
    {
     "name": "stdout",
     "output_type": "stream",
     "text": [
      "Graph with 401 nodes and 467 edges\n"
     ]
    },
    {
     "name": "stderr",
     "output_type": "stream",
     "text": [
      "<ipython-input-3-60d20efbd280>:1: DeprecationWarning: info is deprecated and will be removed in version 3.0.\n",
      "\n",
      "  print(nx.info(G))\n"
     ]
    }
   ],
   "source": [
    "print(nx.info(G))"
   ]
  },
  {
   "cell_type": "code",
   "execution_count": 4,
   "id": "cffa31e6",
   "metadata": {},
   "outputs": [
    {
     "data": {
      "text/plain": [
       "networkx.classes.graph.Graph"
      ]
     },
     "execution_count": 4,
     "metadata": {},
     "output_type": "execute_result"
    }
   ],
   "source": [
    "type(G)"
   ]
  },
  {
   "cell_type": "code",
   "execution_count": 5,
   "id": "76ea3873",
   "metadata": {},
   "outputs": [
    {
     "name": "stdout",
     "output_type": "stream",
     "text": [
      "Graph with 401 nodes and 467 edges\n"
     ]
    },
    {
     "name": "stderr",
     "output_type": "stream",
     "text": [
      "<ipython-input-5-60d20efbd280>:1: DeprecationWarning: info is deprecated and will be removed in version 3.0.\n",
      "\n",
      "  print(nx.info(G))\n"
     ]
    }
   ],
   "source": [
    "print(nx.info(G))"
   ]
  },
  {
   "cell_type": "code",
   "execution_count": 6,
   "id": "febdde16",
   "metadata": {},
   "outputs": [
    {
     "data": {
      "text/plain": [
       "('Wembley Park', {'coords': '(519316.5590174915, 186389.32981656672)'})"
      ]
     },
     "execution_count": 6,
     "metadata": {},
     "output_type": "execute_result"
    }
   ],
   "source": [
    "list(G.nodes(data = True))[0]"
   ]
  },
  {
   "cell_type": "code",
   "execution_count": 7,
   "id": "e9e00a70",
   "metadata": {},
   "outputs": [],
   "source": [
    "for node in G.nodes():\n",
    "    G.nodes[node]['coords'] = eval(G.nodes[node]['coords'])"
   ]
  },
  {
   "cell_type": "code",
   "execution_count": 8,
   "id": "03dac85c",
   "metadata": {},
   "outputs": [
    {
     "data": {
      "text/plain": [
       "('Wembley Park', {'coords': (519316.5590174915, 186389.32981656672)})"
      ]
     },
     "execution_count": 8,
     "metadata": {},
     "output_type": "execute_result"
    }
   ],
   "source": [
    "list(G.nodes(data = True))[0]"
   ]
  },
  {
   "cell_type": "code",
   "execution_count": 9,
   "id": "c0a83b95",
   "metadata": {},
   "outputs": [
    {
     "data": {
      "text/plain": [
       "('Wembley Park',\n",
       " 'Kingsbury',\n",
       " {'length': 2916.7715580506483, 'line_name': 'Jubilee', 'flows': 12356})"
      ]
     },
     "execution_count": 9,
     "metadata": {},
     "output_type": "execute_result"
    }
   ],
   "source": [
    "list(G.edges(data = True))[0]"
   ]
  },
  {
   "cell_type": "markdown",
   "id": "bf189145",
   "metadata": {},
   "source": [
    "fig, ax = plt.subplots(figsize=(25,20))\n",
    "\n",
    "node_labels = nx.get_node_attributes(G, 'station_name')\n",
    "\n",
    "pos = nx.get_node_attributes(G, 'coords')\n",
    "\n",
    "nx.draw_networkx_nodes(G,pos,node_size=50,node_color='b')\n",
    "nx.draw_networkx_edges(G,pos,arrows=False,width=0.2)\n",
    "nx.draw_networkx_labels(G,pos, node_labels, font_size=10, font_color='black')\n",
    "\n",
    "plt.title(\"London tube network\",fontsize=15)\n",
    "plt.axis(\"off\")\n",
    "plt.show()"
   ]
  },
  {
   "cell_type": "markdown",
   "id": "30640b51",
   "metadata": {},
   "source": [
    " #We can print the dataframe from the shapefile to check the data\n",
    "df = nx.to_pandas_edgelist(G)\n",
    "df[0:10]"
   ]
  },
  {
   "cell_type": "markdown",
   "id": "7f5d1702",
   "metadata": {},
   "source": [
    "### Explore"
   ]
  },
  {
   "cell_type": "code",
   "execution_count": 10,
   "id": "8d2bcf2a",
   "metadata": {},
   "outputs": [
    {
     "data": {
      "text/plain": [
       "7266.37392749648"
      ]
     },
     "execution_count": 10,
     "metadata": {},
     "output_type": "execute_result"
    }
   ],
   "source": [
    "#if want to know what is the maximum distance between stations\n",
    "max_dist=max({weight for e1, e2, weight in G.edges(data='length')})\n",
    "max_dist\n",
    "#This distance in given in meters"
   ]
  },
  {
   "cell_type": "code",
   "execution_count": 11,
   "id": "a5ce2826",
   "metadata": {},
   "outputs": [
    {
     "data": {
      "text/plain": [
       "(('Wembley Park', 'Finchley Road'),\n",
       " {'length': 7266.37392749648, 'line_name': 'Metropolitan', 'flows': 55216})"
      ]
     },
     "execution_count": 11,
     "metadata": {},
     "output_type": "execute_result"
    }
   ],
   "source": [
    "#if want to know the edge connecting the stations farther away from each other\n",
    "max(dict(G.edges).items(), key=lambda x: x[1]['length'])"
   ]
  },
  {
   "cell_type": "code",
   "execution_count": 12,
   "id": "d574365a",
   "metadata": {},
   "outputs": [
    {
     "data": {
      "text/plain": [
       "36"
      ]
     },
     "execution_count": 12,
     "metadata": {},
     "output_type": "execute_result"
    }
   ],
   "source": [
    "nx.diameter(G)"
   ]
  },
  {
   "cell_type": "code",
   "execution_count": 13,
   "id": "014a98ca",
   "metadata": {},
   "outputs": [
    {
     "data": {
      "text/plain": [
       "78581.28589029584"
      ]
     },
     "execution_count": 13,
     "metadata": {},
     "output_type": "execute_result"
    }
   ],
   "source": [
    "# diameter of the network considering the distance between stations (weighted diameter)\n",
    "\n",
    "nlen = {n:nx.single_source_dijkstra_path_length(G, n, weight='length') for n in G.nodes() }\n",
    "e = nx.eccentricity(G,sp=nlen)\n",
    "d = nx.diameter(G, e)\n",
    "d"
   ]
  },
  {
   "cell_type": "markdown",
   "id": "4233bf8f",
   "metadata": {},
   "source": [
    "### Centrality measures"
   ]
  },
  {
   "cell_type": "markdown",
   "id": "5a953ddc",
   "metadata": {},
   "source": [
    "#### Degree Centrality on nodes"
   ]
  },
  {
   "cell_type": "code",
   "execution_count": 14,
   "id": "6a74bf13",
   "metadata": {},
   "outputs": [],
   "source": [
    "#  We can calculate the degree centrality using networkx function:\n",
    "deg_london =nx.degree_centrality(G)\n",
    "nx.set_node_attributes(G,dict(deg_london),'degree')\n"
   ]
  },
  {
   "cell_type": "code",
   "execution_count": 15,
   "id": "d4dbdd09",
   "metadata": {
    "scrolled": true
   },
   "outputs": [
    {
     "data": {
      "text/html": [
       "<div>\n",
       "<style scoped>\n",
       "    .dataframe tbody tr th:only-of-type {\n",
       "        vertical-align: middle;\n",
       "    }\n",
       "\n",
       "    .dataframe tbody tr th {\n",
       "        vertical-align: top;\n",
       "    }\n",
       "\n",
       "    .dataframe thead th {\n",
       "        text-align: right;\n",
       "    }\n",
       "</style>\n",
       "<table border=\"1\" class=\"dataframe\">\n",
       "  <thead>\n",
       "    <tr style=\"text-align: right;\">\n",
       "      <th></th>\n",
       "      <th>degree</th>\n",
       "    </tr>\n",
       "  </thead>\n",
       "  <tbody>\n",
       "    <tr>\n",
       "      <th>Stratford</th>\n",
       "      <td>0.0225</td>\n",
       "    </tr>\n",
       "    <tr>\n",
       "      <th>Bank and Monument</th>\n",
       "      <td>0.0200</td>\n",
       "    </tr>\n",
       "    <tr>\n",
       "      <th>King's Cross St. Pancras</th>\n",
       "      <td>0.0175</td>\n",
       "    </tr>\n",
       "    <tr>\n",
       "      <th>Baker Street</th>\n",
       "      <td>0.0175</td>\n",
       "    </tr>\n",
       "    <tr>\n",
       "      <th>Earl's Court</th>\n",
       "      <td>0.0150</td>\n",
       "    </tr>\n",
       "    <tr>\n",
       "      <th>Oxford Circus</th>\n",
       "      <td>0.0150</td>\n",
       "    </tr>\n",
       "    <tr>\n",
       "      <th>Liverpool Street</th>\n",
       "      <td>0.0150</td>\n",
       "    </tr>\n",
       "    <tr>\n",
       "      <th>Waterloo</th>\n",
       "      <td>0.0150</td>\n",
       "    </tr>\n",
       "    <tr>\n",
       "      <th>Green Park</th>\n",
       "      <td>0.0150</td>\n",
       "    </tr>\n",
       "    <tr>\n",
       "      <th>Canning Town</th>\n",
       "      <td>0.0150</td>\n",
       "    </tr>\n",
       "  </tbody>\n",
       "</table>\n",
       "</div>"
      ],
      "text/plain": [
       "                          degree\n",
       "Stratford                 0.0225\n",
       "Bank and Monument         0.0200\n",
       "King's Cross St. Pancras  0.0175\n",
       "Baker Street              0.0175\n",
       "Earl's Court              0.0150\n",
       "Oxford Circus             0.0150\n",
       "Liverpool Street          0.0150\n",
       "Waterloo                  0.0150\n",
       "Green Park                0.0150\n",
       "Canning Town              0.0150"
      ]
     },
     "execution_count": 15,
     "metadata": {},
     "output_type": "execute_result"
    }
   ],
   "source": [
    "# To dataframe using the nodes as the index\n",
    "df = pd.DataFrame(index=G.nodes())\n",
    "#df['station_name'] = pd.Series(nx.get_node_attributes(G, 'station_name'))\n",
    "df['degree'] = pd.Series(nx.get_node_attributes(G, 'degree'))\n",
    "\n",
    "df_sorted_deg = df.sort_values([\"degree\"], ascending=False)\n",
    "\n",
    "df_sorted_deg[0:10]"
   ]
  },
  {
   "cell_type": "code",
   "execution_count": 16,
   "id": "4cfa6e98",
   "metadata": {},
   "outputs": [
    {
     "data": {
      "text/html": [
       "<div>\n",
       "<style scoped>\n",
       "    .dataframe tbody tr th:only-of-type {\n",
       "        vertical-align: middle;\n",
       "    }\n",
       "\n",
       "    .dataframe tbody tr th {\n",
       "        vertical-align: top;\n",
       "    }\n",
       "\n",
       "    .dataframe thead th {\n",
       "        text-align: right;\n",
       "    }\n",
       "</style>\n",
       "<table border=\"1\" class=\"dataframe\">\n",
       "  <thead>\n",
       "    <tr style=\"text-align: right;\">\n",
       "      <th></th>\n",
       "      <th>Station</th>\n",
       "      <th>degree</th>\n",
       "    </tr>\n",
       "  </thead>\n",
       "  <tbody>\n",
       "    <tr>\n",
       "      <th>0</th>\n",
       "      <td>Stratford</td>\n",
       "      <td>0.0225</td>\n",
       "    </tr>\n",
       "    <tr>\n",
       "      <th>1</th>\n",
       "      <td>Bank and Monument</td>\n",
       "      <td>0.0200</td>\n",
       "    </tr>\n",
       "    <tr>\n",
       "      <th>2</th>\n",
       "      <td>King's Cross St. Pancras</td>\n",
       "      <td>0.0175</td>\n",
       "    </tr>\n",
       "    <tr>\n",
       "      <th>3</th>\n",
       "      <td>Baker Street</td>\n",
       "      <td>0.0175</td>\n",
       "    </tr>\n",
       "    <tr>\n",
       "      <th>4</th>\n",
       "      <td>Earl's Court</td>\n",
       "      <td>0.0150</td>\n",
       "    </tr>\n",
       "    <tr>\n",
       "      <th>...</th>\n",
       "      <td>...</td>\n",
       "      <td>...</td>\n",
       "    </tr>\n",
       "    <tr>\n",
       "      <th>396</th>\n",
       "      <td>High Barnet</td>\n",
       "      <td>0.0025</td>\n",
       "    </tr>\n",
       "    <tr>\n",
       "      <th>397</th>\n",
       "      <td>Battersea Park</td>\n",
       "      <td>0.0025</td>\n",
       "    </tr>\n",
       "    <tr>\n",
       "      <th>398</th>\n",
       "      <td>New Cross</td>\n",
       "      <td>0.0025</td>\n",
       "    </tr>\n",
       "    <tr>\n",
       "      <th>399</th>\n",
       "      <td>Crystal Palace</td>\n",
       "      <td>0.0025</td>\n",
       "    </tr>\n",
       "    <tr>\n",
       "      <th>400</th>\n",
       "      <td>Morden</td>\n",
       "      <td>0.0025</td>\n",
       "    </tr>\n",
       "  </tbody>\n",
       "</table>\n",
       "<p>401 rows × 2 columns</p>\n",
       "</div>"
      ],
      "text/plain": [
       "                      Station  degree\n",
       "0                   Stratford  0.0225\n",
       "1           Bank and Monument  0.0200\n",
       "2    King's Cross St. Pancras  0.0175\n",
       "3                Baker Street  0.0175\n",
       "4                Earl's Court  0.0150\n",
       "..                        ...     ...\n",
       "396               High Barnet  0.0025\n",
       "397            Battersea Park  0.0025\n",
       "398                 New Cross  0.0025\n",
       "399            Crystal Palace  0.0025\n",
       "400                    Morden  0.0025\n",
       "\n",
       "[401 rows x 2 columns]"
      ]
     },
     "execution_count": 16,
     "metadata": {},
     "output_type": "execute_result"
    }
   ],
   "source": [
    "df_top_deg = df_sorted_deg.reset_index()\n",
    "column_names = {\"index\":\"Station\"}\n",
    "df_top_deg = df_top_deg.rename(column_names, axis=1)\n",
    "df_top_deg"
   ]
  },
  {
   "cell_type": "code",
   "execution_count": 17,
   "id": "fa89b2ef",
   "metadata": {},
   "outputs": [],
   "source": [
    "degree_values=[(i[1]['degree']) for i in G.nodes(data=True)]"
   ]
  },
  {
   "cell_type": "markdown",
   "id": "933865b3",
   "metadata": {},
   "source": [
    "#### Betweenness Centrality on nodes"
   ]
  },
  {
   "cell_type": "code",
   "execution_count": 18,
   "id": "9fe5acef",
   "metadata": {},
   "outputs": [
    {
     "data": {
      "text/html": [
       "<div>\n",
       "<style scoped>\n",
       "    .dataframe tbody tr th:only-of-type {\n",
       "        vertical-align: middle;\n",
       "    }\n",
       "\n",
       "    .dataframe tbody tr th {\n",
       "        vertical-align: top;\n",
       "    }\n",
       "\n",
       "    .dataframe thead th {\n",
       "        text-align: right;\n",
       "    }\n",
       "</style>\n",
       "<table border=\"1\" class=\"dataframe\">\n",
       "  <thead>\n",
       "    <tr style=\"text-align: right;\">\n",
       "      <th></th>\n",
       "      <th>betweenness_t</th>\n",
       "    </tr>\n",
       "  </thead>\n",
       "  <tbody>\n",
       "    <tr>\n",
       "      <th>Stratford</th>\n",
       "      <td>23768.093434</td>\n",
       "    </tr>\n",
       "    <tr>\n",
       "      <th>Bank and Monument</th>\n",
       "      <td>23181.058947</td>\n",
       "    </tr>\n",
       "    <tr>\n",
       "      <th>Liverpool Street</th>\n",
       "      <td>21610.387049</td>\n",
       "    </tr>\n",
       "    <tr>\n",
       "      <th>King's Cross St. Pancras</th>\n",
       "      <td>20373.521465</td>\n",
       "    </tr>\n",
       "    <tr>\n",
       "      <th>Waterloo</th>\n",
       "      <td>19464.882323</td>\n",
       "    </tr>\n",
       "    <tr>\n",
       "      <th>Green Park</th>\n",
       "      <td>17223.622114</td>\n",
       "    </tr>\n",
       "    <tr>\n",
       "      <th>Euston</th>\n",
       "      <td>16624.275469</td>\n",
       "    </tr>\n",
       "    <tr>\n",
       "      <th>Westminster</th>\n",
       "      <td>16226.155916</td>\n",
       "    </tr>\n",
       "    <tr>\n",
       "      <th>Baker Street</th>\n",
       "      <td>15287.107612</td>\n",
       "    </tr>\n",
       "    <tr>\n",
       "      <th>Finchley Road</th>\n",
       "      <td>13173.758009</td>\n",
       "    </tr>\n",
       "  </tbody>\n",
       "</table>\n",
       "</div>"
      ],
      "text/plain": [
       "                          betweenness_t\n",
       "Stratford                  23768.093434\n",
       "Bank and Monument          23181.058947\n",
       "Liverpool Street           21610.387049\n",
       "King's Cross St. Pancras   20373.521465\n",
       "Waterloo                   19464.882323\n",
       "Green Park                 17223.622114\n",
       "Euston                     16624.275469\n",
       "Westminster                16226.155916\n",
       "Baker Street               15287.107612\n",
       "Finchley Road              13173.758009"
      ]
     },
     "execution_count": 18,
     "metadata": {},
     "output_type": "execute_result"
    }
   ],
   "source": [
    "### Topological betweenness centrality:\n",
    "\n",
    "#Let us compute the betweenness centrality for the network, without using weights:\n",
    "bet_london_t=nx.betweenness_centrality(G, normalized=False)\n",
    "# We can add these values to the nodes attributes:\n",
    "nx.set_node_attributes(G,bet_london_t,'betweenness_t')\n",
    "\n",
    "# To ataframe using the nodes as the index\n",
    "df = pd.DataFrame(index=G.nodes())\n",
    "#df['station_name'] = pd.Series(nx.get_node_attributes(G, 'station_name'))\n",
    "df['betweenness_t'] = pd.Series(nx.get_node_attributes(G, 'betweenness_t'))\n",
    "\n",
    "df_sorted_bet = df.sort_values([\"betweenness_t\"], ascending=False)\n",
    "df_sorted_bet[0:10]"
   ]
  },
  {
   "cell_type": "code",
   "execution_count": 19,
   "id": "29e88d76",
   "metadata": {},
   "outputs": [
    {
     "data": {
      "text/html": [
       "<div>\n",
       "<style scoped>\n",
       "    .dataframe tbody tr th:only-of-type {\n",
       "        vertical-align: middle;\n",
       "    }\n",
       "\n",
       "    .dataframe tbody tr th {\n",
       "        vertical-align: top;\n",
       "    }\n",
       "\n",
       "    .dataframe thead th {\n",
       "        text-align: right;\n",
       "    }\n",
       "</style>\n",
       "<table border=\"1\" class=\"dataframe\">\n",
       "  <thead>\n",
       "    <tr style=\"text-align: right;\">\n",
       "      <th></th>\n",
       "      <th>Station</th>\n",
       "      <th>betweenness_t</th>\n",
       "    </tr>\n",
       "  </thead>\n",
       "  <tbody>\n",
       "    <tr>\n",
       "      <th>0</th>\n",
       "      <td>Stratford</td>\n",
       "      <td>23768.093434</td>\n",
       "    </tr>\n",
       "    <tr>\n",
       "      <th>1</th>\n",
       "      <td>Bank and Monument</td>\n",
       "      <td>23181.058947</td>\n",
       "    </tr>\n",
       "    <tr>\n",
       "      <th>2</th>\n",
       "      <td>Liverpool Street</td>\n",
       "      <td>21610.387049</td>\n",
       "    </tr>\n",
       "    <tr>\n",
       "      <th>3</th>\n",
       "      <td>King's Cross St. Pancras</td>\n",
       "      <td>20373.521465</td>\n",
       "    </tr>\n",
       "    <tr>\n",
       "      <th>4</th>\n",
       "      <td>Waterloo</td>\n",
       "      <td>19464.882323</td>\n",
       "    </tr>\n",
       "    <tr>\n",
       "      <th>...</th>\n",
       "      <td>...</td>\n",
       "      <td>...</td>\n",
       "    </tr>\n",
       "    <tr>\n",
       "      <th>396</th>\n",
       "      <td>Edgware</td>\n",
       "      <td>0.000000</td>\n",
       "    </tr>\n",
       "    <tr>\n",
       "      <th>397</th>\n",
       "      <td>Woolwich Arsenal</td>\n",
       "      <td>0.000000</td>\n",
       "    </tr>\n",
       "    <tr>\n",
       "      <th>398</th>\n",
       "      <td>Stratford International</td>\n",
       "      <td>0.000000</td>\n",
       "    </tr>\n",
       "    <tr>\n",
       "      <th>399</th>\n",
       "      <td>Watford Junction</td>\n",
       "      <td>0.000000</td>\n",
       "    </tr>\n",
       "    <tr>\n",
       "      <th>400</th>\n",
       "      <td>Beckton</td>\n",
       "      <td>0.000000</td>\n",
       "    </tr>\n",
       "  </tbody>\n",
       "</table>\n",
       "<p>401 rows × 2 columns</p>\n",
       "</div>"
      ],
      "text/plain": [
       "                      Station  betweenness_t\n",
       "0                   Stratford   23768.093434\n",
       "1           Bank and Monument   23181.058947\n",
       "2            Liverpool Street   21610.387049\n",
       "3    King's Cross St. Pancras   20373.521465\n",
       "4                    Waterloo   19464.882323\n",
       "..                        ...            ...\n",
       "396                   Edgware       0.000000\n",
       "397          Woolwich Arsenal       0.000000\n",
       "398   Stratford International       0.000000\n",
       "399          Watford Junction       0.000000\n",
       "400                   Beckton       0.000000\n",
       "\n",
       "[401 rows x 2 columns]"
      ]
     },
     "execution_count": 19,
     "metadata": {},
     "output_type": "execute_result"
    }
   ],
   "source": [
    "df_top_bet = df_sorted_bet.reset_index()\n",
    "column_names = {\"index\":\"Station\"}\n",
    "df_top_bet = df_top_bet.rename(column_names, axis=1)\n",
    "df_top_bet"
   ]
  },
  {
   "cell_type": "code",
   "execution_count": 20,
   "id": "38ed1fc3",
   "metadata": {},
   "outputs": [
    {
     "data": {
      "text/plain": [
       "[10780.813492063491,\n",
       " 1191.0,\n",
       " 796.0,\n",
       " 399.0,\n",
       " 0.0,\n",
       " 23768.09343434341,\n",
       " 11119.621248196234,\n",
       " 7674.09841269841,\n",
       " 2526.4904761904795,\n",
       " 5848.217099567098,\n",
       " 8590.281385281378,\n",
       " 5815.533333333337,\n",
       " 6491.394155844155,\n",
       " 1379.3071428571413,\n",
       " 19464.882323232327,\n",
       " 16226.155916305914,\n",
       " 17223.622113997128,\n",
       " 11298.961255411277,\n",
       " 15287.107611832655,\n",
       " 144.25714285714298,\n",
       " 34.66666666666667,\n",
       " 13173.758008657984,\n",
       " 335.33333333333337,\n",
       " 35.0,\n",
       " 96.66666666666666,\n",
       " 458.66666666666663,\n",
       " 4539.465945165944,\n",
       " 659.7000000000002,\n",
       " 542.3333333333334,\n",
       " 3321.1999999999994,\n",
       " 0.0,\n",
       " 399.0,\n",
       " 796.0,\n",
       " 1191.0,\n",
       " 1584.0,\n",
       " 1975.0,\n",
       " 2364.0,\n",
       " 3242.1999999999994,\n",
       " 3564.866666666666,\n",
       " 7158.103174603172,\n",
       " 810.7611832611843,\n",
       " 2102.9274531024566,\n",
       " 864.7778499278496,\n",
       " 1070.277849927851,\n",
       " 1295.277849927853,\n",
       " 4296.746031746024,\n",
       " 694.5365079365091,\n",
       " 1190.66626984127,\n",
       " 774.8833333333329,\n",
       " 801.4499999999998,\n",
       " 23181.05894660899,\n",
       " 21610.387049062047,\n",
       " 2944.9343795093787,\n",
       " 1245.0750721500708,\n",
       " 7239.0,\n",
       " 6911.5,\n",
       " 4051.5,\n",
       " 3674.5,\n",
       " 3330.0,\n",
       " 1584.0,\n",
       " 1191.0,\n",
       " 796.0,\n",
       " 399.0,\n",
       " 0.0,\n",
       " 2131.5,\n",
       " 1744.5,\n",
       " 1357.5,\n",
       " 973.0,\n",
       " 593.5,\n",
       " 216.5,\n",
       " 30.5,\n",
       " 226.5,\n",
       " 613.5,\n",
       " 1000.5,\n",
       " 2361.3970779220763,\n",
       " 2053.4804112554125,\n",
       " 1931.8089826839825,\n",
       " 529.1142857142867,\n",
       " 575.2809523809531,\n",
       " 719.1952380952376,\n",
       " 7549.4145021645045,\n",
       " 3519.0,\n",
       " 3136.0,\n",
       " 2751.0,\n",
       " 2372.0,\n",
       " 1191.0,\n",
       " 796.0,\n",
       " 399.0,\n",
       " 0.0,\n",
       " 0.0,\n",
       " 399.0,\n",
       " 2615.333333333333,\n",
       " 761.3333333333333,\n",
       " 433.5,\n",
       " 1136.437554112552,\n",
       " 1058.1018398268382,\n",
       " 1868.101839826843,\n",
       " 796.0,\n",
       " 399.0,\n",
       " 0.0,\n",
       " 0.0,\n",
       " 399.0,\n",
       " 3242.915079365079,\n",
       " 2946.3793650793586,\n",
       " 2364.0,\n",
       " 2751.0,\n",
       " 3136.0,\n",
       " 3519.0,\n",
       " 3900.0,\n",
       " 4279.0,\n",
       " 4656.0,\n",
       " 12079.590945165946,\n",
       " 7907.670310245307,\n",
       " 8458.778643578637,\n",
       " 8435.36197691197,\n",
       " 3249.6936507936466,\n",
       " 2327.9722222222254,\n",
       " 2362.3472222222204,\n",
       " 2556.680555555553,\n",
       " 1582.587770562773,\n",
       " 1400.7913419913439,\n",
       " 1707.255844155846,\n",
       " 736.6502164502159,\n",
       " 883.2287878787873,\n",
       " 1185.7597402597396,\n",
       " 12926.436147186123,\n",
       " 2173.1044372294423,\n",
       " 1228.5556277056278,\n",
       " 1152.7496753246746,\n",
       " 1144.2175324675316,\n",
       " 1302.2770562770575,\n",
       " 1077.5591269841264,\n",
       " 3625.491414141412,\n",
       " 521.4666666666662,\n",
       " 285.90000000000003,\n",
       " 6950.436147186145,\n",
       " 3519.0,\n",
       " 538.8345238095238,\n",
       " 0.0,\n",
       " 1979.0,\n",
       " 0.0,\n",
       " 3362.1028138528095,\n",
       " 3157.769480519475,\n",
       " 2997.064718614713,\n",
       " 2920.659956709951,\n",
       " 3177.3599567099504,\n",
       " 3098.75995670995,\n",
       " 5901.1742424242475,\n",
       " 3273.4670995670936,\n",
       " 8639.695310245304,\n",
       " 16624.275468975477,\n",
       " 796.0,\n",
       " 399.0,\n",
       " 1191.0,\n",
       " 1584.0,\n",
       " 1975.0,\n",
       " 0.0,\n",
       " 999.8308441558422,\n",
       " 736.1770562770553,\n",
       " 654.8652597402595,\n",
       " 753.5405844155839,\n",
       " 3398.3941558441575,\n",
       " 1393.240909090907,\n",
       " 1190.2825757575765,\n",
       " 1072.9909090909096,\n",
       " 1021.49090909091,\n",
       " 1056.5575757575757,\n",
       " 3299.540909090905,\n",
       " 3136.0,\n",
       " 2751.0,\n",
       " 2364.0,\n",
       " 1191.0,\n",
       " 796.0,\n",
       " 399.0,\n",
       " 0.0,\n",
       " 582.2154761904759,\n",
       " 435.57619047619033,\n",
       " 421.21071428571423,\n",
       " 4394.474458874465,\n",
       " 0.0,\n",
       " 10046.207756132779,\n",
       " 7686.5010101010175,\n",
       " 0.0,\n",
       " 6006.421825396819,\n",
       " 6109.493253968249,\n",
       " 110.10158730158732,\n",
       " 51.79444444444451,\n",
       " 7346.119841269836,\n",
       " 0.0,\n",
       " 6313.986507936508,\n",
       " 2490.4865079365077,\n",
       " 7864.66767676768,\n",
       " 5526.068001442993,\n",
       " 0.0,\n",
       " 399.0,\n",
       " 796.0,\n",
       " 1191.0,\n",
       " 1584.0,\n",
       " 1975.0,\n",
       " 2364.0,\n",
       " 1053.3329365079358,\n",
       " 1292.0829365079376,\n",
       " 3658.095634920627,\n",
       " 3551.595634920629,\n",
       " 7522.101334776343,\n",
       " 2101.134992784992,\n",
       " 1078.0333333333333,\n",
       " 276.16666666666663,\n",
       " 72.25,\n",
       " 193.08333333333331,\n",
       " 517.8333333333334,\n",
       " 191.46666666666678,\n",
       " 259.7960317460314,\n",
       " 200.60238095238097,\n",
       " 28.65,\n",
       " 68.14285714285714,\n",
       " 3765.3075757575725,\n",
       " 3426.0075757575723,\n",
       " 3120.540909090905,\n",
       " 2134.9166666666665,\n",
       " 1764.9166666666667,\n",
       " 1394.9166666666667,\n",
       " 1024.9166666666667,\n",
       " 654.9166666666666,\n",
       " 284.91666666666663,\n",
       " 188.41666666666666,\n",
       " 32.32142857142862,\n",
       " 3559.0539682539593,\n",
       " 3627.942857142849,\n",
       " 20373.521464646434,\n",
       " 5116.012518037517,\n",
       " 5073.59585137085,\n",
       " 10387.458369408376,\n",
       " 565.6428571428571,\n",
       " 305.8472222222222,\n",
       " 294.7876984126984,\n",
       " 484.8710317460315,\n",
       " 758.7876984126983,\n",
       " 1082.7043650793635,\n",
       " 1433.2043650793644,\n",
       " 0.0,\n",
       " 399.0,\n",
       " 796.0,\n",
       " 1191.0,\n",
       " 1584.0,\n",
       " 1975.0,\n",
       " 3919.2301587301586,\n",
       " 3835.4801587301586,\n",
       " 8263.980158730159,\n",
       " 0.0,\n",
       " 797.0,\n",
       " 1191.0,\n",
       " 1584.0,\n",
       " 2761.0,\n",
       " 3136.0,\n",
       " 3519.0,\n",
       " 3900.0,\n",
       " 4279.0,\n",
       " 8029.480158730159,\n",
       " 8349.48015873016,\n",
       " 399.0,\n",
       " 0.0,\n",
       " 0.0,\n",
       " 161.9878787878788,\n",
       " 30.41666666666667,\n",
       " 0.0,\n",
       " 2751.0,\n",
       " 1417.9235569985574,\n",
       " 1140.9568903318905,\n",
       " 360.8432900432901,\n",
       " 3519.0,\n",
       " 3136.0,\n",
       " 2751.0,\n",
       " 2364.0,\n",
       " 1975.0,\n",
       " 1584.0,\n",
       " 1191.0,\n",
       " 796.0,\n",
       " 399.0,\n",
       " 0.0,\n",
       " 0.0,\n",
       " 826.4335137085144,\n",
       " 208.2724025974026,\n",
       " 159.5,\n",
       " 292.0722222222223,\n",
       " 2364.0,\n",
       " 1975.0,\n",
       " 1584.0,\n",
       " 1191.0,\n",
       " 796.0,\n",
       " 399.0,\n",
       " 0.0,\n",
       " 117.09999999999998,\n",
       " 324.4942640692642,\n",
       " 661.3275974025972,\n",
       " 1035.6609307359308,\n",
       " 0.0,\n",
       " 0.0,\n",
       " 399.0,\n",
       " 1584.0,\n",
       " 1191.0,\n",
       " 796.0,\n",
       " 0.0,\n",
       " 399.0,\n",
       " 796.0,\n",
       " 1191.0,\n",
       " 1584.0,\n",
       " 1975.0,\n",
       " 2364.0,\n",
       " 2751.0,\n",
       " 3136.0,\n",
       " 7699.0,\n",
       " 5116.012518037517,\n",
       " 5073.59585137085,\n",
       " 268.3679653679657,\n",
       " 268.41666666666674,\n",
       " 3506.991017316017,\n",
       " 2264.4666666666644,\n",
       " 4146.25,\n",
       " 3136.0,\n",
       " 2751.0,\n",
       " 2364.0,\n",
       " 1975.0,\n",
       " 1584.0,\n",
       " 1191.0,\n",
       " 796.0,\n",
       " 399.0,\n",
       " 0.0,\n",
       " 1979.0,\n",
       " 0.0,\n",
       " 354.4642857142857,\n",
       " 0.0,\n",
       " 399.0,\n",
       " 796.0,\n",
       " 1191.0,\n",
       " 2364.0,\n",
       " 2751.0,\n",
       " 3136.0,\n",
       " 3519.0,\n",
       " 3900.0,\n",
       " 0.0,\n",
       " 3414.788888888894,\n",
       " 40.150000000000034,\n",
       " 213.27182539682545,\n",
       " 0.0,\n",
       " 399.0,\n",
       " 5105.083333333334,\n",
       " 4735.083333333334,\n",
       " 4365.083333333334,\n",
       " 3995.0833333333335,\n",
       " 3625.083333333333,\n",
       " 3255.083333333333,\n",
       " 2890.083333333333,\n",
       " 1191.0,\n",
       " 796.0,\n",
       " 399.0,\n",
       " 0.0,\n",
       " 302.69166666666683,\n",
       " 171.58333333333331,\n",
       " 315.97499999999974,\n",
       " 0.0,\n",
       " 702.4511904761905,\n",
       " 476.49246031746014,\n",
       " 177.52435064935045,\n",
       " 3900.0,\n",
       " 2457.266341991344,\n",
       " 2675.433008658013,\n",
       " 59.97380952380956,\n",
       " 576.3035714285706,\n",
       " 499.383333333333,\n",
       " 177.96666666666675,\n",
       " 75.58333333333334,\n",
       " 10415.831168831171,\n",
       " 2751.0,\n",
       " 2364.0,\n",
       " 1975.0,\n",
       " 1584.0,\n",
       " 1191.0,\n",
       " 796.0,\n",
       " 399.0,\n",
       " 0.0,\n",
       " 1658.6468253968253,\n",
       " 1422.813492063492,\n",
       " 1227.6468253968255,\n",
       " 1195.8333333333335,\n",
       " 1400.6031746031747,\n",
       " 1716.5198412698414,\n",
       " 0.0,\n",
       " 1191.0,\n",
       " 399.0,\n",
       " 1584.0,\n",
       " 1975.0,\n",
       " 2364.0,\n",
       " 2751.0,\n",
       " 3136.0,\n",
       " 3519.0,\n",
       " 0.0,\n",
       " 0.0,\n",
       " 2244.7833333333333,\n",
       " 2460.533333333336,\n",
       " 2746.954978354976]"
      ]
     },
     "execution_count": 20,
     "metadata": {},
     "output_type": "execute_result"
    }
   ],
   "source": [
    "betweenness_t_values=[(i[1]['betweenness_t']) for i in G.nodes(data=True)]\n",
    "betweenness_t_values"
   ]
  },
  {
   "cell_type": "markdown",
   "id": "57f13577",
   "metadata": {},
   "source": [
    "#### Closeness Centrality:"
   ]
  },
  {
   "cell_type": "code",
   "execution_count": 21,
   "id": "586c1a77",
   "metadata": {},
   "outputs": [
    {
     "data": {
      "text/html": [
       "<div>\n",
       "<style scoped>\n",
       "    .dataframe tbody tr th:only-of-type {\n",
       "        vertical-align: middle;\n",
       "    }\n",
       "\n",
       "    .dataframe tbody tr th {\n",
       "        vertical-align: top;\n",
       "    }\n",
       "\n",
       "    .dataframe thead th {\n",
       "        text-align: right;\n",
       "    }\n",
       "</style>\n",
       "<table border=\"1\" class=\"dataframe\">\n",
       "  <thead>\n",
       "    <tr style=\"text-align: right;\">\n",
       "      <th></th>\n",
       "      <th>closeness_t</th>\n",
       "    </tr>\n",
       "  </thead>\n",
       "  <tbody>\n",
       "    <tr>\n",
       "      <th>Green Park</th>\n",
       "      <td>0.114778</td>\n",
       "    </tr>\n",
       "    <tr>\n",
       "      <th>Bank and Monument</th>\n",
       "      <td>0.113572</td>\n",
       "    </tr>\n",
       "    <tr>\n",
       "      <th>King's Cross St. Pancras</th>\n",
       "      <td>0.113443</td>\n",
       "    </tr>\n",
       "    <tr>\n",
       "      <th>Westminster</th>\n",
       "      <td>0.112549</td>\n",
       "    </tr>\n",
       "    <tr>\n",
       "      <th>Waterloo</th>\n",
       "      <td>0.112265</td>\n",
       "    </tr>\n",
       "    <tr>\n",
       "      <th>Oxford Circus</th>\n",
       "      <td>0.111204</td>\n",
       "    </tr>\n",
       "    <tr>\n",
       "      <th>Bond Street</th>\n",
       "      <td>0.110988</td>\n",
       "    </tr>\n",
       "    <tr>\n",
       "      <th>Farringdon</th>\n",
       "      <td>0.110742</td>\n",
       "    </tr>\n",
       "    <tr>\n",
       "      <th>Angel</th>\n",
       "      <td>0.110742</td>\n",
       "    </tr>\n",
       "    <tr>\n",
       "      <th>Moorgate</th>\n",
       "      <td>0.110314</td>\n",
       "    </tr>\n",
       "  </tbody>\n",
       "</table>\n",
       "</div>"
      ],
      "text/plain": [
       "                          closeness_t\n",
       "Green Park                   0.114778\n",
       "Bank and Monument            0.113572\n",
       "King's Cross St. Pancras     0.113443\n",
       "Westminster                  0.112549\n",
       "Waterloo                     0.112265\n",
       "Oxford Circus                0.111204\n",
       "Bond Street                  0.110988\n",
       "Farringdon                   0.110742\n",
       "Angel                        0.110742\n",
       "Moorgate                     0.110314"
      ]
     },
     "execution_count": 21,
     "metadata": {},
     "output_type": "execute_result"
    }
   ],
   "source": [
    "#topological closeness centrality\n",
    "clos_t=nx.closeness_centrality(G)\n",
    "# We can add these values to the nodes attributes:\n",
    "nx.set_node_attributes(G,clos_t,'closeness_t')\n",
    "\n",
    "# To ataframe using the nodes as the index\n",
    "df = pd.DataFrame(index=G.nodes())\n",
    "#df['station_name'] = pd.Series(nx.get_node_attributes(G, 'station_name'))\n",
    "df['closeness_t'] = pd.Series(nx.get_node_attributes(G, 'closeness_t'))\n",
    "\n",
    "df_sorted_clo = df.sort_values([\"closeness_t\"], ascending=False)\n",
    "df_sorted_clo[0:10]"
   ]
  },
  {
   "cell_type": "code",
   "execution_count": 22,
   "id": "92463b40",
   "metadata": {},
   "outputs": [
    {
     "data": {
      "text/html": [
       "<div>\n",
       "<style scoped>\n",
       "    .dataframe tbody tr th:only-of-type {\n",
       "        vertical-align: middle;\n",
       "    }\n",
       "\n",
       "    .dataframe tbody tr th {\n",
       "        vertical-align: top;\n",
       "    }\n",
       "\n",
       "    .dataframe thead th {\n",
       "        text-align: right;\n",
       "    }\n",
       "</style>\n",
       "<table border=\"1\" class=\"dataframe\">\n",
       "  <thead>\n",
       "    <tr style=\"text-align: right;\">\n",
       "      <th></th>\n",
       "      <th>Station</th>\n",
       "      <th>closeness_t</th>\n",
       "    </tr>\n",
       "  </thead>\n",
       "  <tbody>\n",
       "    <tr>\n",
       "      <th>0</th>\n",
       "      <td>Green Park</td>\n",
       "      <td>0.114778</td>\n",
       "    </tr>\n",
       "    <tr>\n",
       "      <th>1</th>\n",
       "      <td>Bank and Monument</td>\n",
       "      <td>0.113572</td>\n",
       "    </tr>\n",
       "    <tr>\n",
       "      <th>2</th>\n",
       "      <td>King's Cross St. Pancras</td>\n",
       "      <td>0.113443</td>\n",
       "    </tr>\n",
       "    <tr>\n",
       "      <th>3</th>\n",
       "      <td>Westminster</td>\n",
       "      <td>0.112549</td>\n",
       "    </tr>\n",
       "    <tr>\n",
       "      <th>4</th>\n",
       "      <td>Waterloo</td>\n",
       "      <td>0.112265</td>\n",
       "    </tr>\n",
       "    <tr>\n",
       "      <th>...</th>\n",
       "      <td>...</td>\n",
       "      <td>...</td>\n",
       "    </tr>\n",
       "    <tr>\n",
       "      <th>396</th>\n",
       "      <td>Heathrow Terminals 2 &amp; 3</td>\n",
       "      <td>0.045096</td>\n",
       "    </tr>\n",
       "    <tr>\n",
       "      <th>397</th>\n",
       "      <td>Heathrow Terminal 4</td>\n",
       "      <td>0.045091</td>\n",
       "    </tr>\n",
       "    <tr>\n",
       "      <th>398</th>\n",
       "      <td>Watford High Street</td>\n",
       "      <td>0.044302</td>\n",
       "    </tr>\n",
       "    <tr>\n",
       "      <th>399</th>\n",
       "      <td>Heathrow Terminal 5</td>\n",
       "      <td>0.043155</td>\n",
       "    </tr>\n",
       "    <tr>\n",
       "      <th>400</th>\n",
       "      <td>Watford Junction</td>\n",
       "      <td>0.042427</td>\n",
       "    </tr>\n",
       "  </tbody>\n",
       "</table>\n",
       "<p>401 rows × 2 columns</p>\n",
       "</div>"
      ],
      "text/plain": [
       "                      Station  closeness_t\n",
       "0                  Green Park     0.114778\n",
       "1           Bank and Monument     0.113572\n",
       "2    King's Cross St. Pancras     0.113443\n",
       "3                 Westminster     0.112549\n",
       "4                    Waterloo     0.112265\n",
       "..                        ...          ...\n",
       "396  Heathrow Terminals 2 & 3     0.045096\n",
       "397       Heathrow Terminal 4     0.045091\n",
       "398       Watford High Street     0.044302\n",
       "399       Heathrow Terminal 5     0.043155\n",
       "400          Watford Junction     0.042427\n",
       "\n",
       "[401 rows x 2 columns]"
      ]
     },
     "execution_count": 22,
     "metadata": {},
     "output_type": "execute_result"
    }
   ],
   "source": [
    "df_top_clo = df_sorted_clo.reset_index()\n",
    "column_names = {\"index\":\"Station\"}\n",
    "df_top_clo = df_top_clo.rename(column_names, axis=1)\n",
    "df_top_clo"
   ]
  },
  {
   "cell_type": "code",
   "execution_count": 23,
   "id": "de70ab8e",
   "metadata": {},
   "outputs": [],
   "source": [
    "closeness_t_values=[(i[1]['closeness_t']) for i in G.nodes(data=True)]"
   ]
  },
  {
   "cell_type": "code",
   "execution_count": 24,
   "id": "470b6da3",
   "metadata": {},
   "outputs": [
    {
     "data": {
      "text/plain": [
       "1"
      ]
     },
     "execution_count": 24,
     "metadata": {},
     "output_type": "execute_result"
    }
   ],
   "source": [
    "# number of connected components\n",
    "nx.number_connected_components(G)"
   ]
  },
  {
   "cell_type": "markdown",
   "id": "100536c1",
   "metadata": {},
   "source": [
    "## I.2. Impact measures:"
   ]
  },
  {
   "cell_type": "markdown",
   "id": "4710de2c",
   "metadata": {},
   "source": [
    "clustering coefficient and average shortest paths\n",
    "（or global efficiency or largest component）"
   ]
  },
  {
   "cell_type": "markdown",
   "id": "3f09b064",
   "metadata": {},
   "source": [
    "## I.3. Node removal:"
   ]
  },
  {
   "cell_type": "markdown",
   "id": "ee32786e",
   "metadata": {},
   "source": [
    "## A"
   ]
  },
  {
   "cell_type": "markdown",
   "id": "767eec24",
   "metadata": {},
   "source": [
    "### Degree"
   ]
  },
  {
   "cell_type": "code",
   "execution_count": 25,
   "id": "2999ef76",
   "metadata": {},
   "outputs": [
    {
     "name": "stdout",
     "output_type": "stream",
     "text": [
      "remove 0 ['Stratford'] G5_lc =  379 G5_ge =  0.08891736066510689\n",
      "remove 1 ['Bank and Monument'] G5_lc =  378 G5_ge =  0.08586164448742485\n",
      "remove 2 [\"King's Cross St. Pancras\"] G5_lc =  377 G5_ge =  0.08028700838265396\n",
      "remove 3 ['Baker Street'] G5_lc =  374 G5_ge =  0.07570039409751211\n",
      "remove 4 [\"Earl's Court\"] G5_lc =  373 G5_ge =  0.0740361229198828\n",
      "remove 5 ['Oxford Circus'] G5_lc =  371 G5_ge =  0.07274535237569829\n",
      "remove 6 ['Liverpool Street'] G5_lc =  365 G5_ge =  0.07094844226118287\n",
      "remove 7 ['Waterloo'] G5_lc =  364 G5_ge =  0.06898194318071488\n",
      "remove 8 ['Green Park'] G5_lc =  363 G5_ge =  0.06825731584971681\n",
      "remove 9 ['Canning Town'] G5_lc =  349 G5_ge =  0.06338447666647608\n"
     ]
    }
   ],
   "source": [
    "#G = nx.read_graphml(\"london_graph.xml\")\n",
    "G5 = G.copy()\n",
    "for i in range(0,10):\n",
    "    #valbet = [n for n in G3.nodes() if G3.nodes[n]['betweenness_t'] == betweenness_t_values[i]]\n",
    "    valdeg = [df_top_deg[\"Station\"][i]]\n",
    "    G5.remove_nodes_from(valdeg)\n",
    "    \n",
    "    #G5_c = nx.average_clustering(G5)\n",
    "    G5_ge = nx.global_efficiency(G5)\n",
    "    \n",
    "    components = nx.connected_components(G5)\n",
    "    largest_component = max(components, key=len)\n",
    "    largest_subgraph = G5.subgraph(largest_component)\n",
    "    G5_lc = largest_subgraph.number_of_nodes()\n",
    "    \n",
    "    \n",
    "    \n",
    "    print(\"remove\", i, valdeg,\n",
    "          \"G5_lc = \", G5_lc, \n",
    "          \"G5_ge = \", G5_ge)"
   ]
  },
  {
   "cell_type": "markdown",
   "id": "ad9fa6da",
   "metadata": {},
   "source": [
    "### Betweeness"
   ]
  },
  {
   "cell_type": "code",
   "execution_count": 26,
   "id": "95f492fe",
   "metadata": {},
   "outputs": [
    {
     "name": "stdout",
     "output_type": "stream",
     "text": [
      "remove 0 ['Stratford'] G6_lc =  379 G6_ge =  0.08891736066510689\n",
      "remove 1 ['Bank and Monument'] G6_lc =  378 G6_ge =  0.08586164448742485\n",
      "remove 2 ['Liverpool Street'] G6_lc =  377 G6_ge =  0.08496349266423939\n",
      "remove 3 [\"King's Cross St. Pancras\"] G6_lc =  371 G6_ge =  0.07849775440713821\n",
      "remove 4 ['Waterloo'] G6_lc =  370 G6_ge =  0.07594226578366223\n",
      "remove 5 ['Green Park'] G6_lc =  369 G6_ge =  0.07415154167648695\n",
      "remove 6 ['Euston'] G6_lc =  346 G6_ge =  0.06820564659789057\n",
      "remove 7 ['Westminster'] G6_lc =  345 G6_ge =  0.06765950327361094\n",
      "remove 8 ['Baker Street'] G6_lc =  342 G6_ge =  0.064700058053009\n",
      "remove 9 ['Finchley Road'] G6_lc =  339 G6_ge =  0.06313903700825897\n"
     ]
    }
   ],
   "source": [
    "G6 = G.copy()\n",
    "for i in range(0,10):\n",
    "    #valbet = [n for n in G3.nodes() if G3.nodes[n]['betweenness_t'] == betweenness_t_values[i]]\n",
    "    valbet = [df_top_bet[\"Station\"][i]]\n",
    "    G6.remove_nodes_from(valbet)\n",
    "    #G6 = G.copy()\n",
    "    \n",
    "    #G6_c = nx.average_clustering(G6)\n",
    "    \n",
    "    G6_ge = nx.global_efficiency(G6)\n",
    "    \n",
    "    components = nx.connected_components(G6)\n",
    "    largest_component = max(components, key=len)\n",
    "    largest_subgraph = G6.subgraph(largest_component)\n",
    "    G6_lc = largest_subgraph.number_of_nodes()\n",
    "    \n",
    "    \n",
    "    \n",
    "    print(\"remove\", i, valbet,\n",
    "          \"G6_lc = \", G6_lc, \n",
    "          \"G6_ge = \", G6_ge)"
   ]
  },
  {
   "cell_type": "markdown",
   "id": "0452140e",
   "metadata": {},
   "source": [
    "### Closeness"
   ]
  },
  {
   "cell_type": "code",
   "execution_count": 27,
   "id": "3e316012",
   "metadata": {},
   "outputs": [
    {
     "name": "stdout",
     "output_type": "stream",
     "text": [
      "remove 0 ['Green Park'] G7_lc =  400 G7_ge =  0.09918991960788402\n",
      "remove 1 ['Bank and Monument'] G7_lc =  399 G7_ge =  0.09487232544791133\n",
      "remove 2 [\"King's Cross St. Pancras\"] G7_lc =  398 G7_ge =  0.08793385149140875\n",
      "remove 3 ['Westminster'] G7_lc =  397 G7_ge =  0.08737164566976727\n",
      "remove 4 ['Waterloo'] G7_lc =  396 G7_ge =  0.08485943799789313\n",
      "remove 5 ['Oxford Circus'] G7_lc =  395 G7_ge =  0.08278135073141742\n",
      "remove 6 ['Bond Street'] G7_lc =  394 G7_ge =  0.08258086417012774\n",
      "remove 7 ['Farringdon'] G7_lc =  393 G7_ge =  0.08260040537396239\n",
      "remove 8 ['Angel'] G7_lc =  392 G7_ge =  0.08262233108950982\n",
      "remove 9 ['Moorgate'] G7_lc =  389 G7_ge =  0.08166991436767818\n"
     ]
    }
   ],
   "source": [
    "G7 = G.copy()\n",
    "for i in range(0,10):\n",
    "    valclo = [df_top_clo[\"Station\"][i]]\n",
    "    G7.remove_nodes_from(valclo)\n",
    "    \n",
    "    #G7_c = nx.average_clustering(G7)\n",
    "    G7_ge = nx.global_efficiency(G7)\n",
    "    \n",
    "    components = nx.connected_components(G7)\n",
    "    largest_component = max(components, key=len)\n",
    "    largest_subgraph = G7.subgraph(largest_component)\n",
    "    G7_lc = largest_subgraph.number_of_nodes()\n",
    "\n",
    "        \n",
    "    \n",
    "    print(\"remove\", i, valclo,\"G7_lc = \", G7_lc, \"G7_ge = \", G7_ge)"
   ]
  },
  {
   "cell_type": "markdown",
   "id": "9296f8e4",
   "metadata": {},
   "source": [
    "## B"
   ]
  },
  {
   "cell_type": "markdown",
   "id": "5d3ccdf7",
   "metadata": {},
   "source": [
    "### Degree"
   ]
  },
  {
   "cell_type": "markdown",
   "id": "748f9318",
   "metadata": {},
   "source": [
    "There are some values with multiple stations, delete the top 10 is not as accurate as other strategies. As a result, degree is discarded.\n",
    "\n",
    "G2 = G.copy()\n",
    "for i in range(0, 10):\n",
    "    \n",
    "        maxdeg=[n for n in G2.nodes() if G2.nodes[n]['degree'] == max(degree_values)]\n",
    "        G2.remove_nodes_from(maxdeg)\n",
    "    \n",
    "        deg_london =nx.degree_centrality(G2)\n",
    "        nx.set_node_attributes(G2,dict(deg_london),'degree')\n",
    "\n",
    "        # To dataframe using the nodes as the index\n",
    "        df = pd.DataFrame(index=G2.nodes())\n",
    "        df['degree'] = pd.Series(nx.get_node_attributes(G2, 'degree'))\n",
    "\n",
    "        df_sorted = df.sort_values([\"degree\"], ascending=False)\n",
    "        G2_c = nx.average_clustering(G2) \n",
    "        G2_ge = nx.global_efficiency(G2)\n",
    "        degree_values =[(i[1]['degree']) for i in G2.nodes(data=True)]\n",
    "\n",
    "        print(\"remove \",i, maxdeg, \"G2_c = \", G2_c, \"G2_ge = \", G2_ge)\n",
    "        \n",
    "      "
   ]
  },
  {
   "cell_type": "markdown",
   "id": "ec1dc817",
   "metadata": {},
   "source": [
    "### Betweeness"
   ]
  },
  {
   "cell_type": "code",
   "execution_count": 28,
   "id": "ff107d5f",
   "metadata": {},
   "outputs": [
    {
     "name": "stdout",
     "output_type": "stream",
     "text": [
      "remove  0 ['Stratford'] G3_lc =  379 G3_ge =  0.08891736066510689\n",
      "remove  1 [\"King's Cross St. Pancras\"] G3_lc =  378 G3_ge =  0.08460293133575152\n",
      "remove  2 ['Waterloo'] G3_lc =  377 G3_ge =  0.08182895253292936\n",
      "remove  3 ['Bank and Monument'] G3_lc =  376 G3_ge =  0.07767794342812263\n",
      "remove  4 ['Canada Water'] G3_lc =  375 G3_ge =  0.07283234083472483\n",
      "remove  5 ['West Hampstead'] G3_lc =  227 G3_ge =  0.053210203984026455\n",
      "remove  6 [\"Earl's Court\"] G3_lc =  226 G3_ge =  0.05165629952389727\n",
      "remove  7 [\"Shepherd's Bush\"] G3_lc =  196 G3_ge =  0.0458442134055722\n",
      "remove  8 ['Euston'] G3_lc =  173 G3_ge =  0.04163076968121037\n",
      "remove  9 ['Baker Street'] G3_lc =  170 G3_ge =  0.0381637040943985\n",
      "remove  10 ['Acton Town'] G3_lc =  147 G3_ge =  0.032996526260496956\n"
     ]
    }
   ],
   "source": [
    "G3 = G.copy()\n",
    "for i in range(0, 11):\n",
    "    \n",
    "        maxbet=[n for n in G3.nodes() if G3.nodes[n]['betweenness_t'] == max(betweenness_t_values)]\n",
    "        G3.remove_nodes_from(maxbet)\n",
    "    \n",
    "        bet_london_t=nx.betweenness_centrality(G3, normalized=False)\n",
    "        nx.set_node_attributes(G3,bet_london_t,'betweenness_t')\n",
    "\n",
    "        # To dataframe using the nodes as the index\n",
    "        df = pd.DataFrame(index=G3.nodes())\n",
    "        df['betweenness_t'] = pd.Series(nx.get_node_attributes(G3, 'betweenness_t'))\n",
    "        betweenness_t_values=[(i[1]['betweenness_t']) for i in G3.nodes(data=True)]\n",
    "\n",
    "        components = nx.connected_components(G3)\n",
    "        largest_component = max(components, key=len)\n",
    "        largest_subgraph = G3.subgraph(largest_component)\n",
    "        G3_lc = largest_subgraph.number_of_nodes()\n",
    "    \n",
    "        G3_ge = nx.global_efficiency(G3)\n",
    "        \n",
    "\n",
    "        print(\"remove \",i, maxbet, \"G3_lc = \", G3_lc, \"G3_ge = \", G3_ge)\n",
    "        \n",
    "      "
   ]
  },
  {
   "cell_type": "markdown",
   "id": "032d0fc8",
   "metadata": {},
   "source": [
    "### Closeness"
   ]
  },
  {
   "cell_type": "code",
   "execution_count": 29,
   "id": "5e89a61d",
   "metadata": {},
   "outputs": [
    {
     "name": "stdout",
     "output_type": "stream",
     "text": [
      "remove  0 ['Green Park'] G4_lc =  400 G4_ge =  0.09918991960788402\n",
      "remove  1 [\"King's Cross St. Pancras\"] G4_lc =  399 G4_ge =  0.09443475025566316\n",
      "remove  2 ['Waterloo'] G4_lc =  398 G4_ge =  0.09181648060183005\n",
      "remove  3 ['Bank and Monument'] G4_lc =  397 G4_ge =  0.08542563066911478\n",
      "remove  4 ['West Hampstead'] G4_lc =  396 G4_ge =  0.08054424756502003\n",
      "remove  5 ['Canada Water'] G4_lc =  226 G4_ge =  0.05810104159173278\n",
      "remove  6 ['Stratford'] G4_lc =  226 G4_ge =  0.051883620553389555\n",
      "remove  7 [\"Earl's Court\"] G4_lc =  225 G4_ge =  0.05035000093626794\n",
      "remove  8 [\"Shepherd's Bush\"] G4_lc =  195 G4_ge =  0.04439458727102797\n",
      "remove  9 ['Oxford Circus'] G4_lc =  194 G4_ge =  0.04295771061337044\n",
      "remove  10 ['Paddington'] G4_lc =  193 G4_ge =  0.041119379269026736\n"
     ]
    }
   ],
   "source": [
    "G4 = G.copy()\n",
    "for i in range(0, 11):\n",
    "    \n",
    "        maxclo=[n for n in G4.nodes() if G4.nodes[n]['closeness_t'] == max(closeness_t_values)]\n",
    "        G4.remove_nodes_from(maxclo)\n",
    "    \n",
    "        clos_t=nx.closeness_centrality(G4)\n",
    "        nx.set_node_attributes(G4,clos_t,'closeness_t')\n",
    "\n",
    "        # To dataframe using the nodes as the index\n",
    "        df = pd.DataFrame(index=G4.nodes())\n",
    "        df['closeness_t'] = pd.Series(nx.get_node_attributes(G4, 'closeness_t'))\n",
    "        closeness_t_values=[(i[1]['closeness_t']) for i in G4.nodes(data=True)]\n",
    "\n",
    "        components = nx.connected_components(G4)\n",
    "        largest_component = max(components, key=len)\n",
    "        largest_subgraph = G4.subgraph(largest_component)\n",
    "        G4_lc = largest_subgraph.number_of_nodes()\n",
    "        \n",
    "        G4_ge = nx.global_efficiency(G4)\n",
    "        \n",
    "\n",
    "        print(\"remove \",i, maxclo, \"G4_lc = \", G4_lc, \"G4_ge = \", G4_ge)"
   ]
  },
  {
   "cell_type": "code",
   "execution_count": null,
   "id": "9b86c71b",
   "metadata": {},
   "outputs": [],
   "source": []
  },
  {
   "cell_type": "code",
   "execution_count": null,
   "id": "14698c1d",
   "metadata": {},
   "outputs": [],
   "source": []
  },
  {
   "cell_type": "code",
   "execution_count": null,
   "id": "ab6fa785",
   "metadata": {},
   "outputs": [],
   "source": []
  },
  {
   "cell_type": "markdown",
   "id": "33b808ab",
   "metadata": {},
   "source": [
    "# II"
   ]
  },
  {
   "cell_type": "code",
   "execution_count": 30,
   "id": "39006ea2",
   "metadata": {},
   "outputs": [],
   "source": [
    "G_II = nx.read_graphml(\"london_graph.xml\")"
   ]
  },
  {
   "cell_type": "code",
   "execution_count": 31,
   "id": "332d22c8",
   "metadata": {},
   "outputs": [],
   "source": [
    "for node in G_II.nodes():\n",
    "    G_II.nodes[node]['coords'] = eval(G_II.nodes[node]['coords'])"
   ]
  },
  {
   "cell_type": "code",
   "execution_count": 32,
   "id": "c91d68bb",
   "metadata": {},
   "outputs": [
    {
     "data": {
      "text/plain": [
       "('Wembley Park', {'coords': (519316.5590174915, 186389.32981656672)})"
      ]
     },
     "execution_count": 32,
     "metadata": {},
     "output_type": "execute_result"
    }
   ],
   "source": [
    "list(G_II.nodes(data = True))[0]"
   ]
  },
  {
   "cell_type": "code",
   "execution_count": 33,
   "id": "4e99451e",
   "metadata": {},
   "outputs": [
    {
     "data": {
      "text/plain": [
       "('Wembley Park',\n",
       " 'Kingsbury',\n",
       " {'length': 2916.7715580506483, 'line_name': 'Jubilee', 'flows': 12356})"
      ]
     },
     "execution_count": 33,
     "metadata": {},
     "output_type": "execute_result"
    }
   ],
   "source": [
    "list(G_II.edges(data = True))[0]"
   ]
  },
  {
   "cell_type": "code",
   "execution_count": 34,
   "id": "afda0f2a",
   "metadata": {},
   "outputs": [
    {
     "data": {
      "text/html": [
       "<div>\n",
       "<style scoped>\n",
       "    .dataframe tbody tr th:only-of-type {\n",
       "        vertical-align: middle;\n",
       "    }\n",
       "\n",
       "    .dataframe tbody tr th {\n",
       "        vertical-align: top;\n",
       "    }\n",
       "\n",
       "    .dataframe thead th {\n",
       "        text-align: right;\n",
       "    }\n",
       "</style>\n",
       "<table border=\"1\" class=\"dataframe\">\n",
       "  <thead>\n",
       "    <tr style=\"text-align: right;\">\n",
       "      <th></th>\n",
       "      <th>source</th>\n",
       "      <th>target</th>\n",
       "      <th>flows</th>\n",
       "      <th>line_name</th>\n",
       "      <th>length</th>\n",
       "    </tr>\n",
       "  </thead>\n",
       "  <tbody>\n",
       "    <tr>\n",
       "      <th>0</th>\n",
       "      <td>Wembley Park</td>\n",
       "      <td>Kingsbury</td>\n",
       "      <td>12356</td>\n",
       "      <td>Jubilee</td>\n",
       "      <td>2916.771558</td>\n",
       "    </tr>\n",
       "    <tr>\n",
       "      <th>1</th>\n",
       "      <td>Wembley Park</td>\n",
       "      <td>Neasden</td>\n",
       "      <td>6744</td>\n",
       "      <td>Jubilee</td>\n",
       "      <td>2353.165938</td>\n",
       "    </tr>\n",
       "    <tr>\n",
       "      <th>2</th>\n",
       "      <td>Wembley Park</td>\n",
       "      <td>Preston Road</td>\n",
       "      <td>36601</td>\n",
       "      <td>Metropolitan</td>\n",
       "      <td>1419.735166</td>\n",
       "    </tr>\n",
       "    <tr>\n",
       "      <th>3</th>\n",
       "      <td>Wembley Park</td>\n",
       "      <td>Finchley Road</td>\n",
       "      <td>55216</td>\n",
       "      <td>Metropolitan</td>\n",
       "      <td>7266.373927</td>\n",
       "    </tr>\n",
       "    <tr>\n",
       "      <th>4</th>\n",
       "      <td>Kingsbury</td>\n",
       "      <td>Queensbury</td>\n",
       "      <td>9419</td>\n",
       "      <td>Jubilee</td>\n",
       "      <td>1245.995234</td>\n",
       "    </tr>\n",
       "    <tr>\n",
       "      <th>...</th>\n",
       "      <td>...</td>\n",
       "      <td>...</td>\n",
       "      <td>...</td>\n",
       "      <td>...</td>\n",
       "      <td>...</td>\n",
       "    </tr>\n",
       "    <tr>\n",
       "      <th>462</th>\n",
       "      <td>Hounslow Central</td>\n",
       "      <td>Hounslow East</td>\n",
       "      <td>13469</td>\n",
       "      <td>Piccadilly</td>\n",
       "      <td>745.684383</td>\n",
       "    </tr>\n",
       "    <tr>\n",
       "      <th>463</th>\n",
       "      <td>Hounslow East</td>\n",
       "      <td>Osterley</td>\n",
       "      <td>15935</td>\n",
       "      <td>Piccadilly</td>\n",
       "      <td>967.494672</td>\n",
       "    </tr>\n",
       "    <tr>\n",
       "      <th>464</th>\n",
       "      <td>Osterley</td>\n",
       "      <td>Boston Manor</td>\n",
       "      <td>17445</td>\n",
       "      <td>Piccadilly</td>\n",
       "      <td>2560.814291</td>\n",
       "    </tr>\n",
       "    <tr>\n",
       "      <th>465</th>\n",
       "      <td>Boston Manor</td>\n",
       "      <td>Northfields</td>\n",
       "      <td>18598</td>\n",
       "      <td>Piccadilly</td>\n",
       "      <td>930.852145</td>\n",
       "    </tr>\n",
       "    <tr>\n",
       "      <th>466</th>\n",
       "      <td>Vauxhall</td>\n",
       "      <td>Pimlico</td>\n",
       "      <td>61585</td>\n",
       "      <td>Victoria</td>\n",
       "      <td>825.328253</td>\n",
       "    </tr>\n",
       "  </tbody>\n",
       "</table>\n",
       "<p>467 rows × 5 columns</p>\n",
       "</div>"
      ],
      "text/plain": [
       "               source         target  flows     line_name       length\n",
       "0        Wembley Park      Kingsbury  12356       Jubilee  2916.771558\n",
       "1        Wembley Park        Neasden   6744       Jubilee  2353.165938\n",
       "2        Wembley Park   Preston Road  36601  Metropolitan  1419.735166\n",
       "3        Wembley Park  Finchley Road  55216  Metropolitan  7266.373927\n",
       "4           Kingsbury     Queensbury   9419       Jubilee  1245.995234\n",
       "..                ...            ...    ...           ...          ...\n",
       "462  Hounslow Central  Hounslow East  13469    Piccadilly   745.684383\n",
       "463     Hounslow East       Osterley  15935    Piccadilly   967.494672\n",
       "464          Osterley   Boston Manor  17445    Piccadilly  2560.814291\n",
       "465      Boston Manor    Northfields  18598    Piccadilly   930.852145\n",
       "466          Vauxhall        Pimlico  61585      Victoria   825.328253\n",
       "\n",
       "[467 rows x 5 columns]"
      ]
     },
     "execution_count": 34,
     "metadata": {},
     "output_type": "execute_result"
    }
   ],
   "source": [
    "df_edge = nx.to_pandas_edgelist(G_II)\n",
    "df_edge"
   ]
  },
  {
   "cell_type": "code",
   "execution_count": 35,
   "id": "4be3186e",
   "metadata": {},
   "outputs": [],
   "source": [
    "df_edge = df_edge[df_edge.flows != 0]"
   ]
  },
  {
   "cell_type": "code",
   "execution_count": 36,
   "id": "218bff69",
   "metadata": {},
   "outputs": [
    {
     "name": "stdout",
     "output_type": "stream",
     "text": [
      "<class 'pandas.core.frame.DataFrame'>\n",
      "Int64Index: 464 entries, 0 to 466\n",
      "Data columns (total 5 columns):\n",
      " #   Column     Non-Null Count  Dtype  \n",
      "---  ------     --------------  -----  \n",
      " 0   source     464 non-null    object \n",
      " 1   target     464 non-null    object \n",
      " 2   flows      464 non-null    int64  \n",
      " 3   line_name  464 non-null    object \n",
      " 4   length     464 non-null    float64\n",
      "dtypes: float64(1), int64(1), object(3)\n",
      "memory usage: 21.8+ KB\n"
     ]
    }
   ],
   "source": [
    "df_edge.info()"
   ]
  },
  {
   "cell_type": "code",
   "execution_count": 37,
   "id": "3e5bfffd",
   "metadata": {},
   "outputs": [],
   "source": [
    "G_II_cleaned = nx.Graph()\n",
    "G_II_cleaned = nx.from_pandas_edgelist(df_edge, 'source', 'target','flows')"
   ]
  },
  {
   "cell_type": "code",
   "execution_count": 38,
   "id": "5ef84022",
   "metadata": {},
   "outputs": [
    {
     "data": {
      "text/plain": [
       "EdgeView([('Wembley Park', 'Kingsbury'), ('Wembley Park', 'Neasden'), ('Wembley Park', 'Preston Road'), ('Wembley Park', 'Finchley Road'), ('Kingsbury', 'Queensbury'), ('Neasden', 'Dollis Hill'), ('Preston Road', 'Northwick Park'), ('Finchley Road', 'Baker Street'), ('Finchley Road', 'Swiss Cottage'), ('Finchley Road', 'West Hampstead'), ('Queensbury', 'Canons Park'), ('Canons Park', 'Stanmore'), ('Stratford', 'West Ham'), ('Stratford', 'Mile End'), ('Stratford', 'Leyton'), ('Stratford', 'Hackney Wick'), ('Stratford', 'Stratford High Street'), ('Stratford', 'Pudding Mill Lane'), ('Stratford', 'Stratford International'), ('Stratford', 'Liverpool Street'), ('Stratford', 'Maryland'), ('West Ham', 'Canning Town'), ('West Ham', 'Bromley-by-Bow'), ('West Ham', 'Plaistow'), ('West Ham', 'Abbey Road'), ('West Ham', 'Star Lane'), ('Mile End', 'Bethnal Green'), ('Mile End', 'Stepney Green'), ('Mile End', 'Bow Road'), ('Leyton', 'Leytonstone'), ('Hackney Wick', 'Homerton'), ('Stratford High Street', 'Abbey Road'), ('Pudding Mill Lane', 'Bow Church'), ('Liverpool Street', 'Bank and Monument'), ('Liverpool Street', 'Bethnal Green'), ('Liverpool Street', 'Aldgate'), ('Liverpool Street', 'Moorgate'), ('Liverpool Street', 'Aldgate East'), ('Maryland', 'Forest Gate'), ('Canning Town', 'North Greenwich'), ('Canning Town', 'Star Lane'), ('Canning Town', 'Royal Victoria'), ('Canning Town', 'East India'), ('Canning Town', 'West Silvertown'), ('Bromley-by-Bow', 'Bow Road'), ('Plaistow', 'Upton Park'), ('North Greenwich', 'Canary Wharf'), ('Royal Victoria', 'Custom House'), ('East India', 'Blackwall'), ('West Silvertown', 'Pontoon Dock'), ('Canary Wharf', 'Canada Water'), ('Canary Wharf', 'West India Quay'), ('Canary Wharf', 'Heron Quays'), ('Canada Water', 'Bermondsey'), ('Canada Water', 'Rotherhithe'), ('Canada Water', 'Surrey Quays'), ('West India Quay', 'Westferry'), ('West India Quay', 'Poplar'), ('Heron Quays', 'South Quay'), ('Bermondsey', 'London Bridge'), ('Rotherhithe', 'Wapping'), ('Surrey Quays', 'New Cross Gate'), ('Surrey Quays', 'New Cross'), ('Surrey Quays', 'Queens Road Peckham'), ('London Bridge', 'Southwark'), ('London Bridge', 'Bank and Monument'), ('London Bridge', 'Borough'), ('Southwark', 'Waterloo'), ('Bank and Monument', 'Waterloo'), ('Bank and Monument', \"St. Paul's\"), ('Bank and Monument', 'Cannon Street'), ('Bank and Monument', 'Tower Hill'), ('Bank and Monument', 'Shadwell'), ('Bank and Monument', 'Moorgate'), ('Borough', 'Elephant & Castle'), ('Waterloo', 'Westminster'), ('Waterloo', 'Embankment'), ('Waterloo', 'Kennington'), ('Waterloo', 'Lambeth North'), ('Westminster', 'Green Park'), ('Westminster', \"St. James's Park\"), ('Westminster', 'Embankment'), ('Embankment', 'Temple'), ('Embankment', 'Charing Cross'), ('Kennington', 'Elephant & Castle'), ('Kennington', 'Oval'), ('Lambeth North', 'Elephant & Castle'), ('Green Park', 'Bond Street'), ('Green Park', 'Hyde Park Corner'), ('Green Park', 'Piccadilly Circus'), ('Green Park', 'Victoria'), ('Green Park', 'Oxford Circus'), (\"St. James's Park\", 'Victoria'), ('Bond Street', 'Baker Street'), ('Bond Street', 'Marble Arch'), ('Bond Street', 'Oxford Circus'), ('Hyde Park Corner', 'Knightsbridge'), ('Piccadilly Circus', 'Oxford Circus'), ('Piccadilly Circus', 'Charing Cross'), ('Piccadilly Circus', 'Leicester Square'), ('Victoria', 'Sloane Square'), ('Victoria', 'Pimlico'), ('Oxford Circus', 'Tottenham Court Road'), ('Oxford Circus', \"Regent's Park\"), ('Oxford Circus', 'Warren Street'), ('Baker Street', \"St. John's Wood\"), ('Baker Street', 'Great Portland Street'), ('Baker Street', 'Edgware Road'), ('Baker Street', 'Marylebone'), ('Baker Street', \"Regent's Park\"), ('Marble Arch', 'Lancaster Gate'), (\"St. John's Wood\", 'Swiss Cottage'), ('Great Portland Street', 'Euston Square'), ('Edgware Road', 'Paddington'), ('Edgware Road', 'Marylebone'), ('West Hampstead', 'Kilburn'), ('West Hampstead', 'Brondesbury'), ('West Hampstead', 'Finchley Road & Frognal'), ('Dollis Hill', 'Willesden Green'), ('Willesden Green', 'Kilburn'), ('Brondesbury', 'Brondesbury Park'), ('Finchley Road & Frognal', 'Hampstead Heath'), ('West Acton', 'Ealing Broadway'), ('West Acton', 'North Acton'), ('Ealing Broadway', 'Ealing Common'), ('North Acton', 'Hanger Lane'), ('North Acton', 'East Acton'), ('Ealing Common', 'Acton Town'), ('Ealing Common', 'North Ealing'), ('Hanger Lane', 'Perivale'), ('East Acton', 'White City'), ('West Ruislip', 'Ruislip Gardens'), ('Ruislip Gardens', 'South Ruislip'), ('South Ruislip', 'Northolt'), ('Northolt', 'Greenford'), ('Greenford', 'Perivale'), ('White City', \"Shepherd's Bush\"), (\"Shepherd's Bush\", 'Holland Park'), (\"Shepherd's Bush\", 'Kensington'), (\"Shepherd's Bush\", 'Willesden Junction'), ('Holland Park', 'Notting Hill Gate'), ('Kensington', 'West Brompton'), ('Kensington', \"Earl's Court\"), ('Willesden Junction', 'Harlesden'), ('Willesden Junction', 'Kensal Green'), ('Willesden Junction', 'Acton Central'), ('Willesden Junction', 'Kensal Rise'), ('Notting Hill Gate', 'Queensway'), ('Notting Hill Gate', 'High Street Kensington'), ('Notting Hill Gate', 'Bayswater'), ('Queensway', 'Lancaster Gate'), ('High Street Kensington', \"Earl's Court\"), ('High Street Kensington', 'Gloucester Road'), ('Bayswater', 'Paddington'), ('Tottenham Court Road', 'Holborn'), ('Tottenham Court Road', 'Goodge Street'), ('Tottenham Court Road', 'Leicester Square'), ('Warren Street', 'Euston'), ('Warren Street', 'Goodge Street'), ('Holborn', 'Chancery Lane'), ('Holborn', 'Covent Garden'), ('Holborn', 'Russell Square'), ('Leicester Square', 'Charing Cross'), ('Leicester Square', 'Covent Garden'), ('Chancery Lane', \"St. Paul's\"), ('Russell Square', \"King's Cross St. Pancras\"), ('Cannon Street', 'Mansion House'), ('Tower Hill', 'Aldgate East'), ('Tower Hill', 'Aldgate'), ('Shadwell', 'Whitechapel'), ('Shadwell', 'Wapping'), ('Shadwell', 'Limehouse'), ('Shadwell', 'Tower Gateway'), ('Moorgate', 'Barbican'), ('Moorgate', 'Old Street'), ('Bethnal Green', 'Cambridge Heath'), ('Aldgate East', 'Whitechapel'), ('Cambridge Heath', 'London Fields'), ('Stepney Green', 'Whitechapel'), ('Leytonstone', 'Snaresbrook'), ('Leytonstone', 'Wanstead'), ('Snaresbrook', 'South Woodford'), ('Wanstead', 'Redbridge'), ('South Woodford', 'Woodford'), ('Woodford', 'Buckhurst Hill'), ('Woodford', 'Roding Valley'), ('Buckhurst Hill', 'Loughton'), ('Roding Valley', 'Chigwell'), ('Loughton', 'Debden'), ('Debden', 'Theydon Bois'), ('Theydon Bois', 'Epping'), ('Redbridge', 'Gants Hill'), ('Gants Hill', 'Newbury Park'), ('Newbury Park', 'Barkingside'), ('Barkingside', 'Fairlop'), ('Fairlop', 'Hainault'), ('Hainault', 'Grange Hill'), ('Grange Hill', 'Chigwell'), ('London Fields', 'Hackney Downs'), ('Hackney Downs', 'Rectory Road'), ('Hackney Downs', 'Clapton'), ('Rectory Road', 'Stoke Newington'), ('Clapton', 'St James Street'), ('Stoke Newington', 'Stamford Hill'), ('Stamford Hill', 'Seven Sisters'), ('Seven Sisters', 'Bruce Grove'), ('Seven Sisters', 'Finsbury Park'), ('Seven Sisters', 'Tottenham Hale'), ('Bruce Grove', 'White Hart Lane'), ('Finsbury Park', 'Highbury & Islington'), ('Finsbury Park', 'Arsenal'), ('Finsbury Park', 'Manor House'), ('Tottenham Hale', 'Blackhorse Road'), ('White Hart Lane', 'Silver Street'), ('Silver Street', 'Edmonton Green'), ('Edmonton Green', 'Southbury'), ('Edmonton Green', 'Bush Hill Park'), ('Southbury', 'Turkey Street'), ('Bush Hill Park', 'Enfield Town'), ('Turkey Street', 'Theobalds Grove'), ('Theobalds Grove', 'Cheshunt'), ('Romford', 'Emerson Park'), ('Romford', 'Chadwell Heath'), ('Romford', 'Gidea Park'), ('Emerson Park', 'Upminster'), ('Chadwell Heath', 'Goodmayes'), ('Gidea Park', 'Harold Wood'), ('Upminster', 'Upminster Bridge'), ('Upminster Bridge', 'Hornchurch'), ('St James Street', 'Walthamstow Central'), ('Walthamstow Central', 'Wood Street'), ('Walthamstow Central', 'Blackhorse Road'), ('Wood Street', 'Highams Park'), ('Blackhorse Road', 'South Tottenham'), ('Blackhorse Road', 'Walthamstow Queens Road'), ('Highams Park', 'Chingford'), ('Richmond', 'Kew Gardens'), ('Kew Gardens', 'Gunnersbury'), ('Gunnersbury', 'South Acton'), ('Gunnersbury', 'Turnham Green'), ('South Acton', 'Acton Central'), ('Turnham Green', 'Hammersmith'), ('Turnham Green', 'Stamford Brook'), ('Turnham Green', 'Chiswick Park'), ('Turnham Green', 'Acton Town'), ('Harrow & Wealdstone', 'Kenton'), ('Harrow & Wealdstone', 'Headstone Lane'), ('Kenton', 'South Kenton'), ('Headstone Lane', 'Hatch End'), ('South Kenton', 'North Wembley'), ('North Wembley', 'Wembley Central'), ('Wembley Central', 'Stonebridge Park'), ('Stonebridge Park', 'Harlesden'), ('Kensal Green', \"Queen's Park\"), ('Kensal Rise', 'Brondesbury Park'), (\"Queen's Park\", 'Kilburn High Road'), (\"Queen's Park\", 'Kilburn Park'), ('Kilburn High Road', 'South Hampstead'), ('Kilburn Park', 'Maida Vale'), ('South Hampstead', 'Euston'), ('Hampstead Heath', 'Gospel Oak'), ('Gospel Oak', 'Kentish Town West'), ('Gospel Oak', 'Upper Holloway'), ('Kentish Town West', 'Camden Road'), ('Upper Holloway', 'Crouch Hill'), ('Camden Road', 'Caledonian Road & Barnsbury'), ('Caledonian Road & Barnsbury', 'Highbury & Islington'), ('Highbury & Islington', 'Canonbury'), ('Highbury & Islington', \"King's Cross St. Pancras\"), ('Canonbury', 'Dalston Kingsland'), ('Canonbury', 'Dalston Junction'), (\"King's Cross St. Pancras\", 'Euston'), (\"King's Cross St. Pancras\", 'Euston Square'), (\"King's Cross St. Pancras\", 'Farringdon'), (\"King's Cross St. Pancras\", 'Angel'), (\"King's Cross St. Pancras\", 'Caledonian Road'), ('Dalston Kingsland', 'Hackney Central'), ('Dalston Junction', 'Haggerston'), ('Hackney Central', 'Homerton'), ('Whitechapel', 'Shoreditch High Street'), ('Shoreditch High Street', 'Hoxton'), ('Limehouse', 'Westferry'), ('New Cross Gate', 'Brockley'), ('Queens Road Peckham', 'Peckham Rye'), ('Brockley', 'Honor Oak Park'), ('Hoxton', 'Haggerston'), ('Sydenham', 'Crystal Palace'), ('Sydenham', 'Forest Hill'), ('Sydenham', 'Penge West'), ('Forest Hill', 'Honor Oak Park'), ('Penge West', 'Anerley'), ('Peckham Rye', 'Denmark Hill'), ('Denmark Hill', 'Clapham High Street'), ('Clapham High Street', 'Wandsworth Road'), ('Wandsworth Road', 'Clapham Junction'), ('Clapham Junction', 'Imperial Wharf'), ('Imperial Wharf', 'West Brompton'), ('West Brompton', \"Earl's Court\"), ('West Brompton', 'Fulham Broadway'), (\"Earl's Court\", 'Gloucester Road'), (\"Earl's Court\", 'West Kensington'), (\"Earl's Court\", 'Barons Court'), ('Fulham Broadway', 'Parsons Green'), ('Euston', 'Camden Town'), ('Euston', 'Mornington Crescent'), ('Camden Town', 'Chalk Farm'), ('Camden Town', 'Kentish Town'), ('Camden Town', 'Mornington Crescent'), ('Bushey', 'Watford High Street'), ('Bushey', 'Carpenders Park'), ('Watford High Street', 'Watford Junction'), ('Carpenders Park', 'Hatch End'), ('Crouch Hill', 'Harringay Green Lanes'), ('Harringay Green Lanes', 'South Tottenham'), ('Walthamstow Queens Road', 'Leyton Midland Road'), ('Leyton Midland Road', 'Leytonstone High Road'), ('Leytonstone High Road', 'Wanstead Park'), ('Wanstead Park', 'Woodgrange Park'), ('Woodgrange Park', 'Barking'), ('Barking', 'East Ham'), ('Barking', 'Upney'), ('East Ham', 'Upton Park'), ('Upney', 'Becontree'), ('Anerley', 'Norwood Junction'), ('Norwood Junction', 'West Croydon'), ('Gloucester Road', 'South Kensington'), ('West Kensington', 'Barons Court'), ('Barons Court', 'Hammersmith'), ('South Kensington', 'Sloane Square'), ('South Kensington', 'Knightsbridge'), ('Hammersmith', 'Ravenscourt Park'), ('Hammersmith', 'Goldhawk Road'), ('Ravenscourt Park', 'Stamford Brook'), ('Goldhawk Road', \"Shepherd's Bush Market\"), ('Chiswick Park', 'Acton Town'), ('Acton Town', 'South Ealing'), ('South Ealing', 'Northfields'), ('North Ealing', 'Park Royal'), ('Wimbledon', 'Wimbledon Park'), ('Wimbledon Park', 'Southfields'), ('Southfields', 'East Putney'), ('East Putney', 'Putney Bridge'), ('Putney Bridge', 'Parsons Green'), ('Paddington', 'Royal Oak'), ('Paddington', 'Warwick Avenue'), ('Royal Oak', 'Westbourne Park'), ('Warwick Avenue', 'Maida Vale'), ('Pimlico', 'Vauxhall'), ('Temple', 'Blackfriars'), ('Blackfriars', 'Mansion House'), ('Becontree', 'Dagenham Heathway'), ('Dagenham Heathway', 'Dagenham East'), ('Dagenham East', 'Elm Park'), ('Elm Park', 'Hornchurch'), ('Farringdon', 'Barbican'), ('Angel', 'Old Street'), ('Caledonian Road', 'Holloway Road'), (\"Shepherd's Bush Market\", 'Wood Lane'), ('Wood Lane', 'Latimer Road'), ('Latimer Road', 'Ladbroke Grove'), ('Ladbroke Grove', 'Westbourne Park'), ('Uxbridge', 'Hillingdon'), ('Hillingdon', 'Ickenham'), ('Ickenham', 'Ruislip'), ('Ruislip', 'Ruislip Manor'), ('Ruislip Manor', 'Eastcote'), ('Eastcote', 'Rayners Lane'), ('Rayners Lane', 'West Harrow'), ('Rayners Lane', 'South Harrow'), ('West Harrow', 'Harrow-on-the-Hill'), ('South Harrow', 'Sudbury Hill'), ('Harrow-on-the-Hill', 'North Harrow'), ('Harrow-on-the-Hill', 'Northwick Park'), ('North Harrow', 'Pinner'), ('Amersham', 'Chalfont & Latimer'), ('Chalfont & Latimer', 'Chorleywood'), ('Chalfont & Latimer', 'Chesham'), ('Chorleywood', 'Rickmansworth'), ('Rickmansworth', 'Moor Park'), ('Moor Park', 'Northwood'), ('Moor Park', 'Croxley'), ('Northwood', 'Northwood Hills'), ('Croxley', 'Watford'), ('Northwood Hills', 'Pinner'), ('Custom House', 'Prince Regent'), ('Westferry', 'Poplar'), ('Poplar', 'All Saints'), ('Poplar', 'Blackwall'), ('South Quay', 'Crossharbour'), ('Crossharbour', 'Mudchute'), ('Mudchute', 'Island Gardens'), ('Island Gardens', 'Cutty Sark'), ('Cutty Sark', 'Greenwich'), ('Greenwich', 'Deptford Bridge'), ('Deptford Bridge', 'Elverson Road'), ('Elverson Road', 'Lewisham'), ('All Saints', 'Langdon Park'), ('Langdon Park', 'Devons Road'), ('Prince Regent', 'Royal Albert'), ('Royal Albert', 'Beckton Park'), ('Beckton Park', 'Cyprus'), ('Cyprus', 'Gallions Reach'), ('Gallions Reach', 'Beckton'), ('Devons Road', 'Bow Church'), ('Woolwich Arsenal', 'King George V'), ('King George V', 'London City Airport'), ('London City Airport', 'Pontoon Dock'), ('Edgware', 'Burnt Oak'), ('Burnt Oak', 'Colindale'), ('Colindale', 'Hendon Central'), ('Hendon Central', 'Brent Cross'), ('Brent Cross', 'Golders Green'), ('Golders Green', 'Hampstead'), ('Hampstead', 'Belsize Park'), ('Belsize Park', 'Chalk Farm'), ('Kentish Town', 'Tufnell Park'), ('Oval', 'Stockwell'), ('Stockwell', 'Clapham North'), ('Stockwell', 'Brixton'), ('Stockwell', 'Vauxhall'), ('Clapham North', 'Clapham Common'), ('Clapham Common', 'Clapham South'), ('Clapham South', 'Balham'), ('Balham', 'Tooting Bec'), ('Tooting Bec', 'Tooting Broadway'), ('Tooting Broadway', 'Colliers Wood'), ('Colliers Wood', 'South Wimbledon'), ('South Wimbledon', 'Morden'), ('Finchley Central', 'Mill Hill East'), ('Finchley Central', 'West Finchley'), ('Finchley Central', 'East Finchley'), ('West Finchley', 'Woodside Park'), ('East Finchley', 'Highgate'), ('High Barnet', 'Totteridge & Whetstone'), ('Totteridge & Whetstone', 'Woodside Park'), ('Highgate', 'Archway'), ('Archway', 'Tufnell Park'), ('Forest Gate', 'Manor Park'), ('Manor Park', 'Ilford'), ('Ilford', 'Seven Kings'), ('Seven Kings', 'Goodmayes'), ('Harold Wood', 'Brentwood'), ('Brentwood', 'Shenfield'), ('Northfields', 'Boston Manor'), ('Holloway Road', 'Arsenal'), ('Manor House', 'Turnpike Lane'), ('Turnpike Lane', 'Wood Green'), ('Wood Green', 'Bounds Green'), ('Bounds Green', 'Arnos Grove'), ('Arnos Grove', 'Southgate'), ('Southgate', 'Oakwood'), ('Oakwood', 'Cockfosters'), ('Sudbury Hill', 'Sudbury Town'), ('Sudbury Town', 'Alperton'), ('Alperton', 'Park Royal'), ('Heathrow Terminal 4', 'Hatton Cross'), ('Heathrow Terminal 4', 'Heathrow Terminals 2 & 3'), ('Hatton Cross', 'Heathrow Terminals 2 & 3'), ('Hatton Cross', 'Hounslow West'), ('Heathrow Terminals 2 & 3', 'Heathrow Terminal 5'), ('Hounslow West', 'Hounslow Central'), ('Hounslow Central', 'Hounslow East'), ('Hounslow East', 'Osterley'), ('Osterley', 'Boston Manor')])"
      ]
     },
     "execution_count": 38,
     "metadata": {},
     "output_type": "execute_result"
    }
   ],
   "source": [
    "G_II_cleaned.edges"
   ]
  },
  {
   "cell_type": "code",
   "execution_count": 39,
   "id": "92076e61",
   "metadata": {
    "scrolled": true
   },
   "outputs": [
    {
     "data": {
      "text/plain": [
       "NodeView(('Wembley Park', 'Kingsbury', 'Neasden', 'Preston Road', 'Finchley Road', 'Queensbury', 'Canons Park', 'Stanmore', 'Stratford', 'West Ham', 'Mile End', 'Leyton', 'Hackney Wick', 'Stratford High Street', 'Pudding Mill Lane', 'Stratford International', 'Liverpool Street', 'Maryland', 'Canning Town', 'Bromley-by-Bow', 'Plaistow', 'Abbey Road', 'Star Lane', 'North Greenwich', 'Royal Victoria', 'East India', 'West Silvertown', 'Canary Wharf', 'Canada Water', 'West India Quay', 'Heron Quays', 'Bermondsey', 'Rotherhithe', 'Surrey Quays', 'London Bridge', 'Southwark', 'Bank and Monument', 'Borough', 'Waterloo', 'Westminster', 'Embankment', 'Kennington', 'Lambeth North', 'Green Park', \"St. James's Park\", 'Bond Street', 'Hyde Park Corner', 'Piccadilly Circus', 'Victoria', 'Oxford Circus', 'Baker Street', 'Marble Arch', \"St. John's Wood\", 'Great Portland Street', 'Edgware Road', 'Marylebone', \"Regent's Park\", 'Swiss Cottage', 'West Hampstead', 'Dollis Hill', 'Willesden Green', 'Kilburn', 'Brondesbury', 'Finchley Road & Frognal', 'West Acton', 'Ealing Broadway', 'North Acton', 'Ealing Common', 'Hanger Lane', 'East Acton', 'West Ruislip', 'Ruislip Gardens', 'South Ruislip', 'Northolt', 'Greenford', 'Perivale', 'White City', \"Shepherd's Bush\", 'Holland Park', 'Kensington', 'Willesden Junction', 'Notting Hill Gate', 'Queensway', 'High Street Kensington', 'Bayswater', 'Lancaster Gate', 'Tottenham Court Road', 'Warren Street', 'Holborn', 'Goodge Street', 'Leicester Square', 'Chancery Lane', 'Covent Garden', 'Russell Square', \"St. Paul's\", 'Cannon Street', 'Tower Hill', 'Shadwell', 'Moorgate', 'Bethnal Green', 'Aldgate', 'Aldgate East', 'Cambridge Heath', 'Stepney Green', 'Bow Road', 'Leytonstone', 'Snaresbrook', 'Wanstead', 'South Woodford', 'Woodford', 'Buckhurst Hill', 'Roding Valley', 'Loughton', 'Debden', 'Theydon Bois', 'Epping', 'Redbridge', 'Gants Hill', 'Newbury Park', 'Barkingside', 'Fairlop', 'Hainault', 'Grange Hill', 'Chigwell', 'London Fields', 'Hackney Downs', 'Rectory Road', 'Clapton', 'Stoke Newington', 'Stamford Hill', 'Seven Sisters', 'Bruce Grove', 'Finsbury Park', 'Tottenham Hale', 'White Hart Lane', 'Silver Street', 'Edmonton Green', 'Southbury', 'Bush Hill Park', 'Turkey Street', 'Theobalds Grove', 'Cheshunt', 'Enfield Town', 'Romford', 'Emerson Park', 'Chadwell Heath', 'Gidea Park', 'Upminster', 'Upminster Bridge', 'St James Street', 'Walthamstow Central', 'Wood Street', 'Blackhorse Road', 'Highams Park', 'Chingford', 'Richmond', 'Kew Gardens', 'Gunnersbury', 'South Acton', 'Turnham Green', 'Acton Central', 'Harrow & Wealdstone', 'Kenton', 'Headstone Lane', 'South Kenton', 'North Wembley', 'Wembley Central', 'Stonebridge Park', 'Harlesden', 'Kensal Green', 'Kensal Rise', \"Queen's Park\", 'Kilburn High Road', 'Kilburn Park', 'South Hampstead', 'Brondesbury Park', 'Hampstead Heath', 'Gospel Oak', 'Kentish Town West', 'Upper Holloway', 'Camden Road', 'Caledonian Road & Barnsbury', 'Highbury & Islington', 'Canonbury', \"King's Cross St. Pancras\", 'Dalston Kingsland', 'Dalston Junction', 'Hackney Central', 'Homerton', 'Whitechapel', 'Shoreditch High Street', 'Wapping', 'Limehouse', 'Tower Gateway', 'New Cross Gate', 'New Cross', 'Queens Road Peckham', 'Brockley', 'Hoxton', 'Sydenham', 'Crystal Palace', 'Forest Hill', 'Penge West', 'Peckham Rye', 'Denmark Hill', 'Clapham High Street', 'Wandsworth Road', 'Clapham Junction', 'Imperial Wharf', 'West Brompton', \"Earl's Court\", 'Fulham Broadway', 'Euston', 'Camden Town', 'Mornington Crescent', 'Bushey', 'Watford High Street', 'Carpenders Park', 'Watford Junction', 'Hatch End', 'Crouch Hill', 'Harringay Green Lanes', 'South Tottenham', 'Walthamstow Queens Road', 'Leyton Midland Road', 'Leytonstone High Road', 'Wanstead Park', 'Woodgrange Park', 'Barking', 'East Ham', 'Upney', 'Honor Oak Park', 'Anerley', 'Norwood Junction', 'West Croydon', 'Haggerston', 'Gloucester Road', 'West Kensington', 'Barons Court', 'South Kensington', 'Hammersmith', 'Ravenscourt Park', 'Goldhawk Road', 'Stamford Brook', 'Chiswick Park', 'Acton Town', 'South Ealing', 'North Ealing', 'Sloane Square', 'Knightsbridge', 'Wimbledon', 'Wimbledon Park', 'Southfields', 'East Putney', 'Putney Bridge', 'Parsons Green', 'Paddington', 'Royal Oak', 'Warwick Avenue', 'Pimlico', 'Temple', 'Charing Cross', 'Blackfriars', 'Mansion House', 'Upton Park', 'Becontree', 'Dagenham Heathway', 'Dagenham East', 'Elm Park', 'Hornchurch', 'Euston Square', 'Farringdon', 'Angel', 'Caledonian Road', 'Barbican', 'Old Street', \"Shepherd's Bush Market\", 'Wood Lane', 'Latimer Road', 'Ladbroke Grove', 'Westbourne Park', 'Uxbridge', 'Hillingdon', 'Ickenham', 'Ruislip', 'Ruislip Manor', 'Eastcote', 'Rayners Lane', 'West Harrow', 'South Harrow', 'Harrow-on-the-Hill', 'North Harrow', 'Northwick Park', 'Amersham', 'Chalfont & Latimer', 'Chorleywood', 'Chesham', 'Rickmansworth', 'Moor Park', 'Northwood', 'Croxley', 'Northwood Hills', 'Pinner', 'Watford', 'Custom House', 'Westferry', 'Poplar', 'South Quay', 'Crossharbour', 'Mudchute', 'Island Gardens', 'Cutty Sark', 'Greenwich', 'Deptford Bridge', 'Elverson Road', 'Lewisham', 'All Saints', 'Blackwall', 'Langdon Park', 'Prince Regent', 'Royal Albert', 'Beckton Park', 'Cyprus', 'Gallions Reach', 'Beckton', 'Devons Road', 'Bow Church', 'Woolwich Arsenal', 'King George V', 'London City Airport', 'Pontoon Dock', 'Edgware', 'Burnt Oak', 'Colindale', 'Hendon Central', 'Brent Cross', 'Golders Green', 'Hampstead', 'Belsize Park', 'Chalk Farm', 'Kentish Town', 'Elephant & Castle', 'Oval', 'Stockwell', 'Clapham North', 'Brixton', 'Vauxhall', 'Clapham Common', 'Clapham South', 'Balham', 'Tooting Bec', 'Tooting Broadway', 'Colliers Wood', 'South Wimbledon', 'Morden', 'Finchley Central', 'Mill Hill East', 'West Finchley', 'East Finchley', 'High Barnet', 'Totteridge & Whetstone', 'Woodside Park', 'Highgate', 'Archway', 'Tufnell Park', 'Forest Gate', 'Manor Park', 'Ilford', 'Seven Kings', 'Goodmayes', 'Harold Wood', 'Brentwood', 'Shenfield', 'Maida Vale', 'Northfields', 'Holloway Road', 'Arsenal', 'Manor House', 'Turnpike Lane', 'Wood Green', 'Bounds Green', 'Arnos Grove', 'Southgate', 'Oakwood', 'Cockfosters', 'Sudbury Hill', 'Sudbury Town', 'Alperton', 'Park Royal', 'Heathrow Terminal 4', 'Hatton Cross', 'Heathrow Terminals 2 & 3', 'Hounslow West', 'Heathrow Terminal 5', 'Hounslow Central', 'Hounslow East', 'Osterley', 'Boston Manor'))"
      ]
     },
     "execution_count": 39,
     "metadata": {},
     "output_type": "execute_result"
    }
   ],
   "source": [
    "G_II_cleaned.nodes"
   ]
  },
  {
   "cell_type": "markdown",
   "id": "1b237891",
   "metadata": {},
   "source": [
    "## II.1 Centrality measures for weighted network"
   ]
  },
  {
   "cell_type": "markdown",
   "id": "f2abda77",
   "metadata": {},
   "source": [
    "### Betweenness Centrality on nodes for the Weighted Network"
   ]
  },
  {
   "cell_type": "code",
   "execution_count": 40,
   "id": "cda75514",
   "metadata": {},
   "outputs": [],
   "source": [
    "# Inverse weights:\n",
    "inv_flows = {(e1, e2):round(1./weight,7) for e1, e2, weight in G_II_cleaned.edges(data='flows')}\n",
    "# Let us add the inversed weight as an attribute to the edges in the graph\n",
    "nx.set_edge_attributes(G_II_cleaned, inv_flows, 'inv_flows')"
   ]
  },
  {
   "cell_type": "code",
   "execution_count": 41,
   "id": "3e343aa6",
   "metadata": {},
   "outputs": [],
   "source": [
    "### Weighted betweenness centrality:\n",
    "#Let us compute the betweenness centrality for the network, considering the distance between stations:\n",
    "\n",
    "bet_london_w=nx.betweenness_centrality(G_II_cleaned,weight='inv_flows',normalized=False)\n",
    "\n",
    "# We can add these values to the nodes attributes:\n",
    "nx.set_node_attributes(G_II_cleaned,bet_london_w,'betweenness_w')"
   ]
  },
  {
   "cell_type": "code",
   "execution_count": 42,
   "id": "57cf4817",
   "metadata": {},
   "outputs": [
    {
     "data": {
      "text/html": [
       "<div>\n",
       "<style scoped>\n",
       "    .dataframe tbody tr th:only-of-type {\n",
       "        vertical-align: middle;\n",
       "    }\n",
       "\n",
       "    .dataframe tbody tr th {\n",
       "        vertical-align: top;\n",
       "    }\n",
       "\n",
       "    .dataframe thead th {\n",
       "        text-align: right;\n",
       "    }\n",
       "</style>\n",
       "<table border=\"1\" class=\"dataframe\">\n",
       "  <thead>\n",
       "    <tr style=\"text-align: right;\">\n",
       "      <th></th>\n",
       "      <th>betweenness_w</th>\n",
       "    </tr>\n",
       "  </thead>\n",
       "  <tbody>\n",
       "    <tr>\n",
       "      <th>Green Park</th>\n",
       "      <td>44945.0</td>\n",
       "    </tr>\n",
       "    <tr>\n",
       "      <th>Bank and Monument</th>\n",
       "      <td>39913.0</td>\n",
       "    </tr>\n",
       "    <tr>\n",
       "      <th>Waterloo</th>\n",
       "      <td>32331.0</td>\n",
       "    </tr>\n",
       "    <tr>\n",
       "      <th>Westminster</th>\n",
       "      <td>29830.0</td>\n",
       "    </tr>\n",
       "    <tr>\n",
       "      <th>Liverpool Street</th>\n",
       "      <td>26617.0</td>\n",
       "    </tr>\n",
       "    <tr>\n",
       "      <th>Stratford</th>\n",
       "      <td>26203.0</td>\n",
       "    </tr>\n",
       "    <tr>\n",
       "      <th>Bond Street</th>\n",
       "      <td>23084.0</td>\n",
       "    </tr>\n",
       "    <tr>\n",
       "      <th>Euston</th>\n",
       "      <td>22419.0</td>\n",
       "    </tr>\n",
       "    <tr>\n",
       "      <th>Oxford Circus</th>\n",
       "      <td>21320.0</td>\n",
       "    </tr>\n",
       "    <tr>\n",
       "      <th>Warren Street</th>\n",
       "      <td>20023.0</td>\n",
       "    </tr>\n",
       "  </tbody>\n",
       "</table>\n",
       "</div>"
      ],
      "text/plain": [
       "                   betweenness_w\n",
       "Green Park               44945.0\n",
       "Bank and Monument        39913.0\n",
       "Waterloo                 32331.0\n",
       "Westminster              29830.0\n",
       "Liverpool Street         26617.0\n",
       "Stratford                26203.0\n",
       "Bond Street              23084.0\n",
       "Euston                   22419.0\n",
       "Oxford Circus            21320.0\n",
       "Warren Street            20023.0"
      ]
     },
     "execution_count": 42,
     "metadata": {},
     "output_type": "execute_result"
    }
   ],
   "source": [
    "# To dataframe using the nodes as the index\n",
    "df = pd.DataFrame(index=G_II_cleaned.nodes())\n",
    "\n",
    "df['betweenness_w'] = pd.Series(nx.get_node_attributes(G_II_cleaned, 'betweenness_w'))\n",
    "\n",
    "df_sorted_bet_w = df.sort_values([\"betweenness_w\"], ascending=False)\n",
    "df_sorted_bet_w[0:10]"
   ]
  },
  {
   "cell_type": "code",
   "execution_count": 43,
   "id": "035e6fe7",
   "metadata": {},
   "outputs": [
    {
     "data": {
      "text/html": [
       "<div>\n",
       "<style scoped>\n",
       "    .dataframe tbody tr th:only-of-type {\n",
       "        vertical-align: middle;\n",
       "    }\n",
       "\n",
       "    .dataframe tbody tr th {\n",
       "        vertical-align: top;\n",
       "    }\n",
       "\n",
       "    .dataframe thead th {\n",
       "        text-align: right;\n",
       "    }\n",
       "</style>\n",
       "<table border=\"1\" class=\"dataframe\">\n",
       "  <thead>\n",
       "    <tr style=\"text-align: right;\">\n",
       "      <th></th>\n",
       "      <th>Station</th>\n",
       "      <th>betweenness_w</th>\n",
       "    </tr>\n",
       "  </thead>\n",
       "  <tbody>\n",
       "    <tr>\n",
       "      <th>0</th>\n",
       "      <td>Green Park</td>\n",
       "      <td>44945.0</td>\n",
       "    </tr>\n",
       "    <tr>\n",
       "      <th>1</th>\n",
       "      <td>Bank and Monument</td>\n",
       "      <td>39913.0</td>\n",
       "    </tr>\n",
       "    <tr>\n",
       "      <th>2</th>\n",
       "      <td>Waterloo</td>\n",
       "      <td>32331.0</td>\n",
       "    </tr>\n",
       "    <tr>\n",
       "      <th>3</th>\n",
       "      <td>Westminster</td>\n",
       "      <td>29830.0</td>\n",
       "    </tr>\n",
       "    <tr>\n",
       "      <th>4</th>\n",
       "      <td>Liverpool Street</td>\n",
       "      <td>26617.0</td>\n",
       "    </tr>\n",
       "    <tr>\n",
       "      <th>...</th>\n",
       "      <td>...</td>\n",
       "      <td>...</td>\n",
       "    </tr>\n",
       "    <tr>\n",
       "      <th>393</th>\n",
       "      <td>Aldgate</td>\n",
       "      <td>0.0</td>\n",
       "    </tr>\n",
       "    <tr>\n",
       "      <th>394</th>\n",
       "      <td>Russell Square</td>\n",
       "      <td>0.0</td>\n",
       "    </tr>\n",
       "    <tr>\n",
       "      <th>395</th>\n",
       "      <td>Stratford High Street</td>\n",
       "      <td>0.0</td>\n",
       "    </tr>\n",
       "    <tr>\n",
       "      <th>396</th>\n",
       "      <td>Woolwich Arsenal</td>\n",
       "      <td>0.0</td>\n",
       "    </tr>\n",
       "    <tr>\n",
       "      <th>397</th>\n",
       "      <td>Angel</td>\n",
       "      <td>0.0</td>\n",
       "    </tr>\n",
       "  </tbody>\n",
       "</table>\n",
       "<p>398 rows × 2 columns</p>\n",
       "</div>"
      ],
      "text/plain": [
       "                   Station  betweenness_w\n",
       "0               Green Park        44945.0\n",
       "1        Bank and Monument        39913.0\n",
       "2                 Waterloo        32331.0\n",
       "3              Westminster        29830.0\n",
       "4         Liverpool Street        26617.0\n",
       "..                     ...            ...\n",
       "393                Aldgate            0.0\n",
       "394         Russell Square            0.0\n",
       "395  Stratford High Street            0.0\n",
       "396       Woolwich Arsenal            0.0\n",
       "397                  Angel            0.0\n",
       "\n",
       "[398 rows x 2 columns]"
      ]
     },
     "execution_count": 43,
     "metadata": {},
     "output_type": "execute_result"
    }
   ],
   "source": [
    "df_wei_bet = df_sorted_bet_w.reset_index()\n",
    "column_names = {\"index\":\"Station\"}\n",
    "df_wei_bet = df_wei_bet.rename(column_names, axis=1)\n",
    "df_wei_bet"
   ]
  },
  {
   "cell_type": "markdown",
   "id": "b0c15760",
   "metadata": {},
   "source": [
    "### Closeness Centrality on nodes"
   ]
  },
  {
   "cell_type": "code",
   "execution_count": 44,
   "id": "08bcc8be",
   "metadata": {},
   "outputs": [
    {
     "data": {
      "text/html": [
       "<div>\n",
       "<style scoped>\n",
       "    .dataframe tbody tr th:only-of-type {\n",
       "        vertical-align: middle;\n",
       "    }\n",
       "\n",
       "    .dataframe tbody tr th {\n",
       "        vertical-align: top;\n",
       "    }\n",
       "\n",
       "    .dataframe thead th {\n",
       "        text-align: right;\n",
       "    }\n",
       "</style>\n",
       "<table border=\"1\" class=\"dataframe\">\n",
       "  <thead>\n",
       "    <tr style=\"text-align: right;\">\n",
       "      <th></th>\n",
       "      <th>closeness_w</th>\n",
       "    </tr>\n",
       "  </thead>\n",
       "  <tbody>\n",
       "    <tr>\n",
       "      <th>Holborn</th>\n",
       "      <td>0.000079</td>\n",
       "    </tr>\n",
       "    <tr>\n",
       "      <th>King's Cross St. Pancras</th>\n",
       "      <td>0.000079</td>\n",
       "    </tr>\n",
       "    <tr>\n",
       "      <th>Tottenham Court Road</th>\n",
       "      <td>0.000079</td>\n",
       "    </tr>\n",
       "    <tr>\n",
       "      <th>Oxford Circus</th>\n",
       "      <td>0.000079</td>\n",
       "    </tr>\n",
       "    <tr>\n",
       "      <th>Leicester Square</th>\n",
       "      <td>0.000078</td>\n",
       "    </tr>\n",
       "    <tr>\n",
       "      <th>Piccadilly Circus</th>\n",
       "      <td>0.000078</td>\n",
       "    </tr>\n",
       "    <tr>\n",
       "      <th>Charing Cross</th>\n",
       "      <td>0.000078</td>\n",
       "    </tr>\n",
       "    <tr>\n",
       "      <th>Chancery Lane</th>\n",
       "      <td>0.000078</td>\n",
       "    </tr>\n",
       "    <tr>\n",
       "      <th>Covent Garden</th>\n",
       "      <td>0.000078</td>\n",
       "    </tr>\n",
       "    <tr>\n",
       "      <th>Embankment</th>\n",
       "      <td>0.000078</td>\n",
       "    </tr>\n",
       "  </tbody>\n",
       "</table>\n",
       "</div>"
      ],
      "text/plain": [
       "                          closeness_w\n",
       "Holborn                      0.000079\n",
       "King's Cross St. Pancras     0.000079\n",
       "Tottenham Court Road         0.000079\n",
       "Oxford Circus                0.000079\n",
       "Leicester Square             0.000078\n",
       "Piccadilly Circus            0.000078\n",
       "Charing Cross                0.000078\n",
       "Chancery Lane                0.000078\n",
       "Covent Garden                0.000078\n",
       "Embankment                   0.000078"
      ]
     },
     "execution_count": 44,
     "metadata": {},
     "output_type": "execute_result"
    }
   ],
   "source": [
    "#Weighted closeness centrality: \n",
    "clos_w=nx.closeness_centrality(G_II, distance='length')\n",
    "# We can add these values to the nodes attributes:\n",
    "nx.set_node_attributes(G_II,clos_w,'closeness_w')\n",
    "\n",
    "# To ataframe using the nodes as the index\n",
    "df = pd.DataFrame(index=G_II.nodes())\n",
    "\n",
    "df['closeness_w'] = pd.Series(nx.get_node_attributes(G_II, 'closeness_w'))\n",
    "\n",
    "df_sorted_clo_w = df.sort_values([\"closeness_w\"], ascending=False)\n",
    "df_sorted_clo_w[0:10]"
   ]
  },
  {
   "cell_type": "code",
   "execution_count": 45,
   "id": "cae1a6ed",
   "metadata": {},
   "outputs": [
    {
     "data": {
      "text/html": [
       "<div>\n",
       "<style scoped>\n",
       "    .dataframe tbody tr th:only-of-type {\n",
       "        vertical-align: middle;\n",
       "    }\n",
       "\n",
       "    .dataframe tbody tr th {\n",
       "        vertical-align: top;\n",
       "    }\n",
       "\n",
       "    .dataframe thead th {\n",
       "        text-align: right;\n",
       "    }\n",
       "</style>\n",
       "<table border=\"1\" class=\"dataframe\">\n",
       "  <thead>\n",
       "    <tr style=\"text-align: right;\">\n",
       "      <th></th>\n",
       "      <th>Station</th>\n",
       "      <th>closeness_w</th>\n",
       "    </tr>\n",
       "  </thead>\n",
       "  <tbody>\n",
       "    <tr>\n",
       "      <th>0</th>\n",
       "      <td>Holborn</td>\n",
       "      <td>0.000079</td>\n",
       "    </tr>\n",
       "    <tr>\n",
       "      <th>1</th>\n",
       "      <td>King's Cross St. Pancras</td>\n",
       "      <td>0.000079</td>\n",
       "    </tr>\n",
       "    <tr>\n",
       "      <th>2</th>\n",
       "      <td>Tottenham Court Road</td>\n",
       "      <td>0.000079</td>\n",
       "    </tr>\n",
       "    <tr>\n",
       "      <th>3</th>\n",
       "      <td>Oxford Circus</td>\n",
       "      <td>0.000079</td>\n",
       "    </tr>\n",
       "    <tr>\n",
       "      <th>4</th>\n",
       "      <td>Leicester Square</td>\n",
       "      <td>0.000078</td>\n",
       "    </tr>\n",
       "    <tr>\n",
       "      <th>...</th>\n",
       "      <td>...</td>\n",
       "      <td>...</td>\n",
       "    </tr>\n",
       "    <tr>\n",
       "      <th>396</th>\n",
       "      <td>Chorleywood</td>\n",
       "      <td>0.000025</td>\n",
       "    </tr>\n",
       "    <tr>\n",
       "      <th>397</th>\n",
       "      <td>Shenfield</td>\n",
       "      <td>0.000024</td>\n",
       "    </tr>\n",
       "    <tr>\n",
       "      <th>398</th>\n",
       "      <td>Chalfont &amp; Latimer</td>\n",
       "      <td>0.000023</td>\n",
       "    </tr>\n",
       "    <tr>\n",
       "      <th>399</th>\n",
       "      <td>Amersham</td>\n",
       "      <td>0.000021</td>\n",
       "    </tr>\n",
       "    <tr>\n",
       "      <th>400</th>\n",
       "      <td>Chesham</td>\n",
       "      <td>0.000020</td>\n",
       "    </tr>\n",
       "  </tbody>\n",
       "</table>\n",
       "<p>401 rows × 2 columns</p>\n",
       "</div>"
      ],
      "text/plain": [
       "                      Station  closeness_w\n",
       "0                     Holborn     0.000079\n",
       "1    King's Cross St. Pancras     0.000079\n",
       "2        Tottenham Court Road     0.000079\n",
       "3               Oxford Circus     0.000079\n",
       "4            Leicester Square     0.000078\n",
       "..                        ...          ...\n",
       "396               Chorleywood     0.000025\n",
       "397                 Shenfield     0.000024\n",
       "398        Chalfont & Latimer     0.000023\n",
       "399                  Amersham     0.000021\n",
       "400                   Chesham     0.000020\n",
       "\n",
       "[401 rows x 2 columns]"
      ]
     },
     "execution_count": 45,
     "metadata": {},
     "output_type": "execute_result"
    }
   ],
   "source": [
    "df_wei_clo = df_sorted_clo_w.reset_index()\n",
    "column_names = {\"index\":\"Station\"}\n",
    "df_wei_clo = df_wei_clo.rename(column_names, axis=1)\n",
    "df_wei_clo"
   ]
  },
  {
   "cell_type": "markdown",
   "id": "4d33e36f",
   "metadata": {},
   "source": [
    "## II.2"
   ]
  },
  {
   "cell_type": "code",
   "execution_count": 46,
   "id": "7ef8be48",
   "metadata": {},
   "outputs": [
    {
     "name": "stdout",
     "output_type": "stream",
     "text": [
      "13.567155677632496\n"
     ]
    }
   ],
   "source": [
    "print(nx.average_shortest_path_length(G_II_cleaned))"
   ]
  },
  {
   "cell_type": "code",
   "execution_count": 47,
   "id": "b337d245",
   "metadata": {},
   "outputs": [
    {
     "name": "stdout",
     "output_type": "stream",
     "text": [
      "0.0008157978810931216\n"
     ]
    }
   ],
   "source": [
    "# average shorest path\n",
    "print(nx.average_shortest_path_length(G_II_cleaned, weight = 'inv_flows'))"
   ]
  },
  {
   "cell_type": "code",
   "execution_count": 48,
   "id": "445dee92",
   "metadata": {},
   "outputs": [
    {
     "data": {
      "text/plain": [
       "398"
      ]
     },
     "execution_count": 48,
     "metadata": {},
     "output_type": "execute_result"
    }
   ],
   "source": [
    "components = nx.connected_components(G_II_cleaned)\n",
    "largest_component = max(components, key=len)\n",
    "largest_subgraph = G_II_cleaned.subgraph(largest_component)\n",
    "G_II_cleaned_lc = largest_subgraph.number_of_nodes()\n",
    "        \n",
    "G_II_cleaned_lc"
   ]
  },
  {
   "cell_type": "markdown",
   "id": "b84404b2",
   "metadata": {},
   "source": [
    "## II.3"
   ]
  },
  {
   "cell_type": "code",
   "execution_count": 49,
   "id": "2e8f9daf",
   "metadata": {},
   "outputs": [],
   "source": [
    "G_II3_original = G.copy()"
   ]
  },
  {
   "cell_type": "code",
   "execution_count": 50,
   "id": "2270e271",
   "metadata": {},
   "outputs": [
    {
     "data": {
      "text/plain": [
       "401"
      ]
     },
     "execution_count": 50,
     "metadata": {},
     "output_type": "execute_result"
    }
   ],
   "source": [
    "components = nx.connected_components(G_II3_original)\n",
    "largest_component = max(components, key=len)\n",
    "largest_subgraph = G_II3_original.subgraph(largest_component)\n",
    "G_II3_original_lc = largest_subgraph.number_of_nodes()\n",
    "        \n",
    "G_II3_original_lc"
   ]
  },
  {
   "cell_type": "code",
   "execution_count": 51,
   "id": "b39d5c6e",
   "metadata": {},
   "outputs": [
    {
     "name": "stdout",
     "output_type": "stream",
     "text": [
      "13.545997506234414\n"
     ]
    }
   ],
   "source": [
    "print(nx.average_shortest_path_length(G_II3_original))"
   ]
  },
  {
   "cell_type": "code",
   "execution_count": 52,
   "id": "d26dc9aa",
   "metadata": {},
   "outputs": [],
   "source": [
    "G_II3 = G.copy()"
   ]
  },
  {
   "cell_type": "code",
   "execution_count": 53,
   "id": "d1894f8e",
   "metadata": {},
   "outputs": [],
   "source": [
    "# remove \n",
    "highestnode = df_top_bet['Station'][0]"
   ]
  },
  {
   "cell_type": "code",
   "execution_count": 54,
   "id": "0869d1cc",
   "metadata": {},
   "outputs": [
    {
     "data": {
      "text/plain": [
       "'Stratford'"
      ]
     },
     "execution_count": 54,
     "metadata": {},
     "output_type": "execute_result"
    }
   ],
   "source": [
    "highestnode"
   ]
  },
  {
   "cell_type": "code",
   "execution_count": 55,
   "id": "42296de6",
   "metadata": {},
   "outputs": [],
   "source": [
    "G_II3.remove_nodes_from([highestnode])"
   ]
  },
  {
   "cell_type": "code",
   "execution_count": 56,
   "id": "4c6513cd",
   "metadata": {},
   "outputs": [
    {
     "data": {
      "text/plain": [
       "379"
      ]
     },
     "execution_count": 56,
     "metadata": {},
     "output_type": "execute_result"
    }
   ],
   "source": [
    "components = nx.connected_components(G_II3)\n",
    "largest_component = max(components, key=len)\n",
    "largest_subgraph = G_II3.subgraph(largest_component)\n",
    "G_II3_lc = largest_subgraph.number_of_nodes()\n",
    "        \n",
    "G_II3_lc"
   ]
  },
  {
   "cell_type": "code",
   "execution_count": 61,
   "id": "e1129c86",
   "metadata": {},
   "outputs": [
    {
     "name": "stdout",
     "output_type": "stream",
     "text": [
      "14.496447069006436\n",
      "4.821052631578947\n",
      "0\n"
     ]
    }
   ],
   "source": [
    "for C in (G_II3.subgraph(c).copy() for c in nx.connected_components(G_II3)):\n",
    "    print(nx.average_shortest_path_length(C))"
   ]
  },
  {
   "cell_type": "code",
   "execution_count": 62,
   "id": "a99464bf",
   "metadata": {},
   "outputs": [
    {
     "data": {
      "text/html": [
       "<div>\n",
       "<style scoped>\n",
       "    .dataframe tbody tr th:only-of-type {\n",
       "        vertical-align: middle;\n",
       "    }\n",
       "\n",
       "    .dataframe tbody tr th {\n",
       "        vertical-align: top;\n",
       "    }\n",
       "\n",
       "    .dataframe thead th {\n",
       "        text-align: right;\n",
       "    }\n",
       "</style>\n",
       "<table border=\"1\" class=\"dataframe\">\n",
       "  <thead>\n",
       "    <tr style=\"text-align: right;\">\n",
       "      <th></th>\n",
       "      <th>Station</th>\n",
       "      <th>betweenness_w</th>\n",
       "    </tr>\n",
       "  </thead>\n",
       "  <tbody>\n",
       "    <tr>\n",
       "      <th>0</th>\n",
       "      <td>Green Park</td>\n",
       "      <td>44945.0</td>\n",
       "    </tr>\n",
       "    <tr>\n",
       "      <th>1</th>\n",
       "      <td>Bank and Monument</td>\n",
       "      <td>39913.0</td>\n",
       "    </tr>\n",
       "    <tr>\n",
       "      <th>2</th>\n",
       "      <td>Waterloo</td>\n",
       "      <td>32331.0</td>\n",
       "    </tr>\n",
       "    <tr>\n",
       "      <th>3</th>\n",
       "      <td>Westminster</td>\n",
       "      <td>29830.0</td>\n",
       "    </tr>\n",
       "    <tr>\n",
       "      <th>4</th>\n",
       "      <td>Liverpool Street</td>\n",
       "      <td>26617.0</td>\n",
       "    </tr>\n",
       "    <tr>\n",
       "      <th>...</th>\n",
       "      <td>...</td>\n",
       "      <td>...</td>\n",
       "    </tr>\n",
       "    <tr>\n",
       "      <th>393</th>\n",
       "      <td>Aldgate</td>\n",
       "      <td>0.0</td>\n",
       "    </tr>\n",
       "    <tr>\n",
       "      <th>394</th>\n",
       "      <td>Russell Square</td>\n",
       "      <td>0.0</td>\n",
       "    </tr>\n",
       "    <tr>\n",
       "      <th>395</th>\n",
       "      <td>Stratford High Street</td>\n",
       "      <td>0.0</td>\n",
       "    </tr>\n",
       "    <tr>\n",
       "      <th>396</th>\n",
       "      <td>Woolwich Arsenal</td>\n",
       "      <td>0.0</td>\n",
       "    </tr>\n",
       "    <tr>\n",
       "      <th>397</th>\n",
       "      <td>Angel</td>\n",
       "      <td>0.0</td>\n",
       "    </tr>\n",
       "  </tbody>\n",
       "</table>\n",
       "<p>398 rows × 2 columns</p>\n",
       "</div>"
      ],
      "text/plain": [
       "                   Station  betweenness_w\n",
       "0               Green Park        44945.0\n",
       "1        Bank and Monument        39913.0\n",
       "2                 Waterloo        32331.0\n",
       "3              Westminster        29830.0\n",
       "4         Liverpool Street        26617.0\n",
       "..                     ...            ...\n",
       "393                Aldgate            0.0\n",
       "394         Russell Square            0.0\n",
       "395  Stratford High Street            0.0\n",
       "396       Woolwich Arsenal            0.0\n",
       "397                  Angel            0.0\n",
       "\n",
       "[398 rows x 2 columns]"
      ]
     },
     "execution_count": 62,
     "metadata": {},
     "output_type": "execute_result"
    }
   ],
   "source": [
    "# Repeat on the weighted network\n",
    "df_wei_bet"
   ]
  },
  {
   "cell_type": "code",
   "execution_count": 63,
   "id": "9d008a62",
   "metadata": {},
   "outputs": [
    {
     "data": {
      "text/plain": [
       "'Green Park'"
      ]
     },
     "execution_count": 63,
     "metadata": {},
     "output_type": "execute_result"
    }
   ],
   "source": [
    "# remove \n",
    "highestnode_w = df_wei_bet['Station'][0]\n",
    "highestnode_w"
   ]
  },
  {
   "cell_type": "code",
   "execution_count": 64,
   "id": "89fa6f66",
   "metadata": {},
   "outputs": [],
   "source": [
    "G_II3_w = G_II_cleaned.copy()"
   ]
  },
  {
   "cell_type": "code",
   "execution_count": 65,
   "id": "e71a2774",
   "metadata": {},
   "outputs": [],
   "source": [
    "G_II3_w.remove_nodes_from([highestnode_w])"
   ]
  },
  {
   "cell_type": "code",
   "execution_count": 66,
   "id": "6263b593",
   "metadata": {},
   "outputs": [
    {
     "data": {
      "text/plain": [
       "397"
      ]
     },
     "execution_count": 66,
     "metadata": {},
     "output_type": "execute_result"
    }
   ],
   "source": [
    "components = nx.connected_components(G_II3_w)\n",
    "largest_component = max(components, key=len)\n",
    "largest_subgraph = G_II3_w.subgraph(largest_component)\n",
    "G_II3_lc_w = largest_subgraph.number_of_nodes()\n",
    "        \n",
    "G_II3_lc_w"
   ]
  },
  {
   "cell_type": "code",
   "execution_count": 67,
   "id": "96cf31c3",
   "metadata": {},
   "outputs": [
    {
     "name": "stdout",
     "output_type": "stream",
     "text": [
      "0.0008434015316896885\n"
     ]
    }
   ],
   "source": [
    "print(nx.average_shortest_path_length(G_II3_w, weight = 'inv_flows'))"
   ]
  }
 ],
 "metadata": {
  "kernelspec": {
   "display_name": "Python 3",
   "language": "python",
   "name": "python3"
  },
  "language_info": {
   "codemirror_mode": {
    "name": "ipython",
    "version": 3
   },
   "file_extension": ".py",
   "mimetype": "text/x-python",
   "name": "python",
   "nbconvert_exporter": "python",
   "pygments_lexer": "ipython3",
   "version": "3.8.8"
  }
 },
 "nbformat": 4,
 "nbformat_minor": 5
}
